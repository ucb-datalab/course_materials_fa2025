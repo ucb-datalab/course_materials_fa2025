{
 "cells": [
  {
   "cell_type": "markdown",
   "metadata": {
    "editable": true,
    "slideshow": {
     "slide_type": ""
    },
    "tags": []
   },
   "source": [
    "# Meeting/Lecture 0\n",
    "\n",
    "If you'd like to follow along\n",
    "\n",
    "```bash\n",
    "git clone https://github.com/ucb-datalab/course_materials_fa2025.git\n",
    "cd course_materials_fa2025\n",
    "jupyter lab\n",
    "```\n",
    "\n",
    "## Agenda for today\n",
    "\n",
    "* Introduction (this notebook, *00_Introduction*)\n",
    "   \n",
    "* Class Logistics \n",
    "\n",
    "* Visualization (*01_plotting_and_viz_intro*)\n",
    "\n",
    "* Lab \\#0: Getting Started \n",
    "   \n",
    "* Caching (*02_caching.ipynb*)   (if time)"
   ]
  },
  {
   "cell_type": "markdown",
   "metadata": {
    "editable": true,
    "slideshow": {
     "slide_type": ""
    },
    "tags": []
   },
   "source": [
    "## Class Logistics\n",
    "\n",
    "### Course Aims\n",
    "\n",
    "- Introduce and motivate a range of analysis techniques and data pipelining\n",
    "- Gain practical, in-depth experience doing inference on real, open-ended modern astronomical challenges\n",
    "- Build reproducible, well-tested, well-documented software & infrastructure\n",
    "- Learn to work with open data and code, and in an open science environment\n",
    "- Hone presentation (speaking & visualization) skills\n",
    "- Develop skills for future in academia, industry, …\n",
    "\n",
    "### Communication \n",
    "\n",
    "* Main communication channel for us is Ed Discussion. Everyone should be automatically enrolled.  Let me know if not!\n",
    "\n",
    "* Course website will contain relevant links (https://ucb-datalab.github.io/), mostly pointing to the online material in GitHub (https://github.com/ucb-datalab/course_materials_sp2025)\n",
    "\n",
    "* Labs and checkpoints to be submitted using bCourses->gradescope.\n",
    "\n",
    "\n",
    "### Course Info\n",
    "\n",
    "- Overview (https://ucb-datalab.github.io)\n",
    "- Syllabus (https://ucb-datalab.github.io/pages/syllabus.html)\n",
    "- Prereqs (https://ucb-datalab.github.io/pages/prereq.html); we assume Python fluency\n",
    "\n",
    "### Computing Resources\n",
    "\n",
    "You will need to use Python. We use 3.11.* here but anything from >3.9 should be fine.\n",
    "* Option 1: Execute your labs locally (see https://github.com/ucb-datalab/course_materials_fa2025)\n",
    "* Option 2: UCB's datahub: https://astro.datahub.berkeley.edu\n",
    "* Option 3: for compute-intensive work (particularly Lab 3), we have access to Savio (https://mybrc.brc.berkeley.edu/user/sso_login/?next=/project/1028/)\n",
    "\n",
    "### Waitlist\n",
    "* We are near/at capacity, but we strongly recommend that you come to the first lectures and attempt Lab 0. People tend to drop at the Lab 0 due date (see \"Time Management\" below).\n",
    "\n",
    "**Interlude**: please fill out this short form (https://forms.gle/tDsive4R6UriCvBX8)\n",
    "\n",
    "### Time Management\n",
    "* This is a time-intensive lab class. It usually doesn't work well to start working on checkpoints, labs, etc. right before they are due.  If you're taking a heavy course load this semester, you may find yourself really crunched for time.\n",
    "\n",
    "### Answering questions on Ed Discussion\n",
    "* Please don't email us questions about your code/checkpoints.  Use Ed Discussion.\n",
    "* We do our best to answer questions, but we also not always online.  We may not get to questions before a deadline or as quickly as you would like.  That's part of time management.  We encourage students to answer each other's questions, that's really the best use of Ed Discussion and helps your participation grade.\n",
    "* Ask as many questions are you like!\n",
    "* Answer as many questions as you can!\n",
    "* Anonymous questions / comments -- these are fine, but we can't give you participation credit\n",
    "\n",
    "### FAQ\n",
    "\n",
    "* __Q__: It is important to attend lecture?\n",
    "    * __A__: Yes!\n",
    "\n",
    "* __Q__: What is the workload like in this class?\n",
    "    * __A__: In Spring 2024, students in AY 182 reported spending 10-25 hours per week working on labs.  Busier weeks were usually the weeks lab reports were due.  It is hard to imaging spending any *less* time than 10 hours/week on this the labs and doing well in the class.  We try to provide you time in class and during office hours to ease the heavy workload.\n",
    "\n",
    "* __Q__: I have a very full semester of technical classes, is it a good idea to take AY 128?\n",
    "    * __A__: It depends on your comfort level and time management skills. This class features a heavy workload and some of the lab components *require* a fair amount of time to complete. For example, (re-)training a neutral net or (re-)running your fitting routine may require hours to execute -- it's just unavoidable.\n",
    "\n",
    "* __Q__:  I am going to be gone for 5 days for vacation/visiting grad schools/skiing, can I turn in assignments late or on a different schedule?\n",
    "    * __A__: No, you should plan to use your slip days accordingly. Your two lowest checkpoint scores will automatically be dropped.  We encourage you to use them smartly.\n",
    "  \n",
    "* __Q__: I am not comfortable coding.  Should I take this class?\n",
    "    * __A__: This is not a class in which you should learn coding for the first time. While you'll undoubtedly learn new coding skills, you should alredy have a solid grasp of using python for this class.  We don't have the capacity to troubleshoot code in great detail, though we try to help when we can.\n",
    "\n",
    "* __Q__: I don't have a strong (or any) astronomy background.  Should I take this class?\n",
    "    * __A__: We try to provide the astronomy foundation needed for the labs.  Students with strong coding, but little prior astro/physics have successed in this class before.  However, it will take extra time and effort to learn the necessary astronomy for each lab, adding to the normal course workload.  We are more than happy to help with astro concepts, as we can.\n"
   ]
  },
  {
   "cell_type": "markdown",
   "metadata": {},
   "source": [
    "### What advice would you give to future students?\n",
    "\n",
    "\"Its important to keep well documented code even if you're the only one looking at it.\n",
    "You need to get started early because things will rarely work first try and there will be a lot of trial and error in all of these labs.\n",
    "OFFICE HOURS!!\"\n",
    "\n",
    "\"It's super important to be proactive in this class, i.e. going to office hours, form groups, and asking questions. START EARLY because some steps of the labs take really long to run and don't underestimate the time it takes for the write–up.\"\n",
    "\n",
    "\"Start early so you can ask questions along the way before it feels too late to ask.\"\n",
    "\n",
    "\"I would not take this course with more than one other technical/physics course. Also, collaborate with others even if nobody knows what they're doing. Discussing the problem often helps to come up with solutions.\"\n",
    "\n",
    "\"Go to office hours, make friends in the class to work together with\"\n",
    "\n",
    "\"Start your overleaf file early & even if you don't have an outline yet and just note down your thought process on there . It'll save you a lot of time for when it comes to the write up\"\n",
    "\n",
    "\"the jump from Lab 0 to Lab 1 is huge.\""
   ]
  }
 ],
 "metadata": {
  "kernelspec": {
   "display_name": "Python 3 (ipykernel)",
   "language": "python",
   "name": "python3"
  },
  "language_info": {
   "codemirror_mode": {
    "name": "ipython",
    "version": 3
   },
   "file_extension": ".py",
   "mimetype": "text/x-python",
   "name": "python",
   "nbconvert_exporter": "python",
   "pygments_lexer": "ipython3",
   "version": "3.11.13"
  }
 },
 "nbformat": 4,
 "nbformat_minor": 4
}
