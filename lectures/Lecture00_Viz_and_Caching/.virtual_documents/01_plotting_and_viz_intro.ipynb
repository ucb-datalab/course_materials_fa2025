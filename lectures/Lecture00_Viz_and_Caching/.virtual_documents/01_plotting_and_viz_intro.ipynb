














%matplotlib inline
import matplotlib.pyplot as plt

# If you're reading in an image
# !conda install pillow -y
#import matplotlib.image as mpimg
#data = mpimg.imread("data/my_data_file.jpg")

# or read in a numpy array
import numpy as np
data = np.load("data/my_data_file.npy")


data.shape


import pandas as pd
df = pd.DataFrame(data[:,:,0])
df.info()


df.describe()


df.tail()


plt.imshow(data, origin='upper')
plt.show()








from IPython.display import HTML
HTML("""
<video width="620" controls>
  <source src="https://pbs.twimg.com/tweet_video/CrIDuOhWYAAVzcM.mp4" type="video/mp4">
</video>
""")




















from IPython.display import HTML
HTML("""
<blockquote class="twitter-tweet"><p lang="en" dir="ltr">Animation showing how a boxplot may hide very different data patterns.<br>
<br>By <a href="https://twitter.com/JustinMatejka?ref_src=twsrc%5Etfw">@JustinMatejka</a> <a href="https://t.co/Zmk10ZTflU">pic.twitter.com/Zmk10ZTflU</a></p>&mdash; Lionel Page (@page_eco) <a href="https://twitter.com/page_eco/status/1055785592829698048?ref_src=twsrc%5Etfw">October 26, 2018</a></blockquote> 
<script async src="https://platform.twitter.com/widgets.js" charset="utf-8"></script>
""")






















