{
 "cells": [
  {
   "cell_type": "markdown",
   "id": "9829c9df-1e90-42ae-80ed-f209dda9d731",
   "metadata": {},
   "source": [
    "# Lecture 8: MCMC & Lab 1\n",
    "\n",
    "### Sep 29, 2025"
   ]
  },
  {
   "cell_type": "markdown",
   "id": "8f18c852-8554-4582-bd3d-c2a791fcbfbc",
   "metadata": {},
   "source": [
    "# Lab 1 Timeline Reminder\n",
    "\n",
    "  - PDF of the Lab is on [GitHub](https://github.com/ucb-datalab/course_materials_fa2025/blob/main/labs/AY128_Lab1_rrlyrae_dust_fall2025.pdf).\n",
    "\n",
    "  - Final Write Up (in LaTex) Due: Oct 12, 2025 "
   ]
  },
  {
   "cell_type": "markdown",
   "id": "9963d083-eb60-4e5d-bcd9-afa0fd8c3229",
   "metadata": {},
   "source": [
    "# Agenda\n",
    "\n",
    "- Introduction (this notebook, *00_Introduction*)\n",
    "- Lab 1 questions\n",
    "- Convergence (*01_convergence*)\n",
    "- pymc Walkthrough (*02_pymc_fitting_tutorial*)"
   ]
  }
 ],
 "metadata": {
  "kernelspec": {
   "display_name": "Python 3 (ipykernel)",
   "language": "python",
   "name": "python3"
  },
  "language_info": {
   "codemirror_mode": {
    "name": "ipython",
    "version": 3
   },
   "file_extension": ".py",
   "mimetype": "text/x-python",
   "name": "python",
   "nbconvert_exporter": "python",
   "pygments_lexer": "ipython3",
   "version": "3.11.13"
  }
 },
 "nbformat": 4,
 "nbformat_minor": 5
}
