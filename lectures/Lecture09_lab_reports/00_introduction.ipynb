{
 "cells": [
  {
   "cell_type": "markdown",
   "id": "9829c9df-1e90-42ae-80ed-f209dda9d731",
   "metadata": {},
   "source": [
    "# Lecture 9: Lab Reports\n",
    "\n",
    "### Oct. 1, 2025"
   ]
  },
  {
   "cell_type": "markdown",
   "id": "9963d083-eb60-4e5d-bcd9-afa0fd8c3229",
   "metadata": {},
   "source": [
    "# Agenda\n",
    "\n",
    "- Lab 1 Checkpoint 2 presentations\n",
    "- Introduction (this notebook, *00_Introduction*)\n",
    "- Writing up a lab report"
   ]
  },
  {
   "cell_type": "markdown",
   "id": "bbef94fd-c58f-408f-ae85-a8fd6c258f26",
   "metadata": {},
   "source": [
    "## Lab write ups\n",
    "\n",
    "<img src=\"paper_structure.png\"/></img>"
   ]
  },
  {
   "cell_type": "markdown",
   "id": "c0fd46be-f449-4e1c-b94b-9874a0933066",
   "metadata": {},
   "source": [
    "## Scientific paper are often write in $\\LaTeX$\n",
    "\n",
    "* <a ref=\"https://en.wikipedia.org/wiki/LaTeX\">$\\LaTeX$</a> is a document production system that is particularly useful for formatting math and science papers \n",
    " * $\\LaTeX$ is more modern version of <a ref=\"https://en.wikipedia.org/wiki/TeX\">Tex</a> (1978)\n",
    " * TeX/LaTeX differs from MS Word, Google Docs, etc. which are WYSISYG editors\n",
    " * TeX/LaTeX takes a plain text file that contains your writing and compiles it into a production ready document\n",
    " * You can install $\\LaTeX$ locally or better yet use <a href=\"https://www.overleaf.com\">Overleaf</a>\n",
    "    - Berkeley has a site license for overleaf, so you all have access\n",
    " * It takes a little time to get used to using $\\LaTeX$, so please plan accordingly (time management)"
   ]
  },
  {
   "cell_type": "markdown",
   "id": "f48ab9d9-175a-4b80-afe1-bd93667d0031",
   "metadata": {},
   "source": [
    "### Useful resources for LaTeX and Lab Reports\n",
    "* Overleaf tutorial for using $\\LaTeX$: <a href=\"https://www.overleaf.com/learn/latex/Learn_LaTeX_in_30_minutes\"/>Learn LaTex in 30 minutes</a>\n",
    "* AY 121 (radio lab) has published a lot of useful info about <a href=\"https://casper.astro.berkeley.edu/astrobaki/index.php/LaTeX\"/>getting started with LaTeX</a>:\n",
    "    - Lab report template (e.g., how to fold in figures, tables, etc) is <a href=\"https://github.com/AaronParsons/ugradio/tree/main/latex_template\"/>here</a>\n",
    "    - Tex tips are <a href=\"https://github.com/AaronParsons/ugradio/tree/main/texprimer\">here</a>"
   ]
  }
 ],
 "metadata": {
  "kernelspec": {
   "display_name": "Python 3 (ipykernel)",
   "language": "python",
   "name": "python3"
  },
  "language_info": {
   "codemirror_mode": {
    "name": "ipython",
    "version": 3
   },
   "file_extension": ".py",
   "mimetype": "text/x-python",
   "name": "python",
   "nbconvert_exporter": "python",
   "pygments_lexer": "ipython3",
   "version": "3.11.13"
  }
 },
 "nbformat": 4,
 "nbformat_minor": 5
}
