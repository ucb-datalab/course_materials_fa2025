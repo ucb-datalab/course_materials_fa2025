{
 "cells": [
  {
   "cell_type": "markdown",
   "id": "9829c9df-1e90-42ae-80ed-f209dda9d731",
   "metadata": {},
   "source": [
    "# Lecture 7: MCMC & Lab 1\n",
    "\n",
    "### Feb 18, 2025"
   ]
  },
  {
   "cell_type": "markdown",
   "id": "8f18c852-8554-4582-bd3d-c2a791fcbfbc",
   "metadata": {},
   "source": [
    "# Lab 1 Timeline Reminder\n",
    "\n",
    "  - PDF of the Lab is on [GitHub](https://github.com/ucb-datalab/course_materials_sp2025/blob/main/labs/AY128_256_Lab1_rrlyrae_dust_spring2025.pdf).\n",
    "\n",
    "  - **Assigned**: Thursday, Feb 6, 2025 \n",
    " \n",
    "  - **Checkpoints**: Thursday, February 13, 2025; Tuesday, February 25, 2025; Tuesday, March 4, 2025 \n",
    "\n",
    "  - Final Write Up (in LaTex) Due: Thursday, March 6, 2025 \n"
   ]
  },
  {
   "cell_type": "markdown",
   "id": "9963d083-eb60-4e5d-bcd9-afa0fd8c3229",
   "metadata": {},
   "source": [
    "# Agenda\n",
    "\n",
    "* Office Hours\n",
    "   - Dan: Tues 3:30-4:30pm (355)\n",
    "   - Saahit: Mon 1-3pm (355) and Thu 12:30-2pm (__now in 102B Physics__)\n",
    "   - by appt\n",
    "   - Communications on Ed Discussion\n",
    "\n",
    "- Introduction (this notebook, *00_Introduction*)\n",
    "- Lab 1 questions\n",
    "- Intro to MCMC (*01_MCMC*)\n",
    "- Metropolis-Hastings Walkthrough (*02_MCMC_MH_walkthrough*)"
   ]
  },
  {
   "cell_type": "markdown",
   "id": "8ae9ec40-6af1-4a2d-82cf-b8736e7d9662",
   "metadata": {},
   "source": [
    "## Getting these notebooks \n",
    "```bash\n",
    "git clone git clone https://github.com/ucb-datalab/course_materials_sp2025.git\n",
    "cd course_materials_sp2025.git\n",
    "jupyter notebook\n",
    "```"
   ]
  },
  {
   "cell_type": "code",
   "execution_count": null,
   "id": "460accf0-47f6-4df8-9910-943634b18585",
   "metadata": {},
   "outputs": [],
   "source": []
  }
 ],
 "metadata": {
  "kernelspec": {
   "display_name": "Python 3 (ipykernel)",
   "language": "python",
   "name": "python3"
  },
  "language_info": {
   "codemirror_mode": {
    "name": "ipython",
    "version": 3
   },
   "file_extension": ".py",
   "mimetype": "text/x-python",
   "name": "python",
   "nbconvert_exporter": "python",
   "pygments_lexer": "ipython3",
   "version": "3.11.7"
  }
 },
 "nbformat": 4,
 "nbformat_minor": 5
}
