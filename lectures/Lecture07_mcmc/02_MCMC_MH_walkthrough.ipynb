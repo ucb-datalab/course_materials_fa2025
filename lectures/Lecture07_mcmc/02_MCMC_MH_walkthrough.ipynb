{
 "cells": [
  {
   "cell_type": "code",
   "execution_count": null,
   "id": "6c55d1a6-9fd7-4ab8-a11e-abb4005be4bd",
   "metadata": {},
   "outputs": [],
   "source": [
    "import numpy as np\n",
    "import pylab as plt\n",
    "import corner\n",
    "import tqdm\n",
    "\n",
    "prm_order = ['a', 'b', 'c', 'logsig']\n",
    "nprms = len(prm_order)"
   ]
  },
  {
   "cell_type": "code",
   "execution_count": null,
   "id": "46050149-939c-47a0-963d-d0e5bcc91595",
   "metadata": {},
   "outputs": [],
   "source": [
    "def model(x, a, b, c):\n",
    "    '''The model we are fitting.'''\n",
    "    return a*x**2 + b*x + c\n",
    "\n",
    "x = np.linspace(-5, 5, 256)\n",
    "SIG_N = 1\n",
    "prms_true = (1.1, 2.2, 3.3)\n",
    "y_meas = model(x, *prms_true) + SIG_N * np.random.normal(size=x.shape)"
   ]
  },
  {
   "cell_type": "code",
   "execution_count": null,
   "id": "166fcc66-6a3c-4a03-9408-24191d10fe15",
   "metadata": {},
   "outputs": [],
   "source": [
    "def report(prms):\n",
    "    '''Generate a pretty report and plot for a set of parameters.'''\n",
    "    if type(prms) == dict:\n",
    "        prms = (prms['a'], prms['b'], prms['c'])\n",
    "    if type(prms[0]) != float:\n",
    "        prms = tuple(float(p) for p in prms)\n",
    "    y = model(x, *prms)\n",
    "    chisq = np.sum(np.abs(y_meas - y)**2 / SIG_N**2)\n",
    "    chisq_r = chisq / (y_meas.size - len(prms))\n",
    "    print(f'A:{prms[0]:7.3}, B:{prms[1]:7.3}, C:{prms[2]:7.3}')\n",
    "    print(f'Chi-sq: {chisq:7.3}, Reduced Chi-sq: {chisq_r:7.3}')\n",
    "\n",
    "    plt.figure()\n",
    "    plt.plot(x, y_meas, '.', label='measured')\n",
    "    plt.plot(x, y, label='model')\n",
    "    plt.plot(x, y_meas - y, label='residual')\n",
    "    plt.grid()\n",
    "    _ = plt.legend()"
   ]
  },
  {
   "cell_type": "code",
   "execution_count": null,
   "id": "2d22d74d-7dcb-44e2-b1c7-4f0c0383ae00",
   "metadata": {},
   "outputs": [],
   "source": [
    "report(prms_true)"
   ]
  },
  {
   "cell_type": "code",
   "execution_count": null,
   "id": "88fb1066-c663-4b0b-976c-d41639a8f48f",
   "metadata": {},
   "outputs": [],
   "source": [
    "class Uniform:\n",
    "    '''Model a flat (uniform) prior of a variable.'''\n",
    "    def __init__(self, name, lower, upper):\n",
    "        self.name = name\n",
    "        self.lower = lower\n",
    "        self.upper = upper\n",
    "    def start_val(self):\n",
    "        return np.random.uniform(self.lower, self.upper)\n",
    "    def log_prior(self, val):\n",
    "        if self.lower < val < self.upper:\n",
    "            return 0.0\n",
    "        else:\n",
    "            return -np.inf\n",
    "        \n",
    "class Normal:\n",
    "    '''Model a normal (gaussian/normal distributed) prior of a variable.'''\n",
    "    def __init__(self, name, mean, sigma):\n",
    "        self.name = name\n",
    "        self.mean = mean\n",
    "        self.sigma = sigma\n",
    "    def start_val(self):\n",
    "        return self.mean + self.sigma * np.random.normal()\n",
    "    def log_prior(self, val):\n",
    "        return -0.5*(np.log(2 * np.pi * self.sigma**2) + np.abs(val - self.mean)**2 / self.sigma**2 )"
   ]
  },
  {
   "cell_type": "code",
   "execution_count": null,
   "id": "169a307a-4887-4dc1-9786-1b9028c42590",
   "metadata": {},
   "outputs": [],
   "source": [
    "def log_prior(**kwargs):\n",
    "    ''' evaluate the log prior from Bayes theorem'''\n",
    "    return sum([prms[k].log_prior(v) for k, v in kwargs.items()])\n",
    "\n",
    "def log_likelihood(y, yhat, sig_noise):\n",
    "    ''' evaluate the log likelihood from Bayes theorem'''\n",
    "    L = -0.5 * (np.log(2 * np.pi * sig_noise**2) + np.abs(y - yhat)**2 / sig_noise**2 )\n",
    "    return np.sum(L)\n",
    "\n",
    "def log_probability(prms, x, y_meas):\n",
    "    ''' evaluate the log posterior from Bayes theorem'''\n",
    "    a, b, c, logsig = prms\n",
    "    prms = dict(zip(prm_order, prms))\n",
    "    lp = log_prior(**prms)\n",
    "    if not np.isfinite(lp):\n",
    "        return -np.inf\n",
    "    yhat = model(x, a, b, c)\n",
    "    return lp + log_likelihood(y_meas, yhat, 10**logsig)\n",
    "\n",
    "''' define priors for a,b,c, and logsig'''\n",
    "prms = {\n",
    "    'a': Uniform('a', lower=-5, upper=5),\n",
    "    'b': Uniform('b', lower=-5, upper=5),\n",
    "    'c': Uniform('c', lower=-5, upper=5),\n",
    "    'logsig': Uniform('logsig', lower=-1.0, upper=1.0),\n",
    "}"
   ]
  },
  {
   "cell_type": "code",
   "execution_count": null,
   "id": "be751171-3a27-4715-bc3a-c2ce67516150",
   "metadata": {},
   "outputs": [],
   "source": [
    "# set up a MH sampler\n",
    "\n",
    "def _metropolis_hastings_step(current, step_size):\n",
    "    ''' proposal distribution: normal propsal distribution\n",
    "         takes in current step and step size'''\n",
    "    proposed = current + np.random.normal(scale=step_size, size=current.size)\n",
    "    acceptance_ratio = np.exp(log_probability(proposed, x, y_meas) - log_probability(current, x, y_meas))\n",
    "    if np.random.uniform() < acceptance_ratio: \n",
    "        current = proposed\n",
    "    return current\n",
    "\n",
    "def metropolis_hastings(n_steps, n_burnin, step_size, prms):\n",
    "    ''' run the MH chain\n",
    "    for n_steps with n_burnin steps, a specified step_size, and model variable values'''\n",
    "    current = np.array([prms[k].start_val() for k in prm_order])\n",
    "    chain = []\n",
    "    # execute burin\n",
    "    for _ in range(n_burnin - 1):\n",
    "        current = _metropolis_hastings_step(current, step_size)\n",
    "    # do the sampling\n",
    "    for _ in tqdm.tqdm(range(n_steps)):\n",
    "        current = _metropolis_hastings_step(current, step_size)\n",
    "        chain.append(current)\n",
    "    chain = dict(zip(prm_order, np.array(chain).T))\n",
    "    return chain\n",
    "\n",
    "chain = metropolis_hastings(12000, 12000, 0.02, prms)"
   ]
  },
  {
   "cell_type": "code",
   "execution_count": null,
   "id": "5ed67384-bba7-499a-beee-e4109e68cd02",
   "metadata": {},
   "outputs": [],
   "source": [
    "import pylab as plt\n",
    "fig, axes = plt.subplots(nrows=nprms, sharex=True, figsize=(8,8))\n",
    "for i, k in enumerate(prm_order):\n",
    "    axes[i].plot(chain[k].T)\n",
    "    axes[i].set_ylabel(k)\n",
    "axes[nprms-1].set_xlabel('Step')"
   ]
  },
  {
   "cell_type": "code",
   "execution_count": null,
   "id": "9e908f87-ce87-4c17-b77e-0ef80e47516e",
   "metadata": {},
   "outputs": [],
   "source": [
    "# make the corner plot\n",
    "_ = corner.corner(chain)"
   ]
  },
  {
   "cell_type": "code",
   "execution_count": null,
   "id": "7ce07060-fa42-4f7a-b489-7ef1c1ef126b",
   "metadata": {},
   "outputs": [],
   "source": [
    "# do a posterior predictive check\n",
    "prms_opt = {k: np.mean(chain[k]) for k in prm_order}\n",
    "sig_n = 10**prms_opt.pop('logsig')\n",
    "print(f'Inferred noise sigma: {sig_n:7.3}')\n",
    "report(prms_opt)"
   ]
  },
  {
   "cell_type": "code",
   "execution_count": null,
   "id": "354250f1-9d78-4058-a39a-4f4e57b8f3b4",
   "metadata": {},
   "outputs": [],
   "source": []
  }
 ],
 "metadata": {
  "kernelspec": {
   "display_name": "Python 3 (ipykernel)",
   "language": "python",
   "name": "python3"
  },
  "language_info": {
   "codemirror_mode": {
    "name": "ipython",
    "version": 3
   },
   "file_extension": ".py",
   "mimetype": "text/x-python",
   "name": "python",
   "nbconvert_exporter": "python",
   "pygments_lexer": "ipython3",
   "version": "3.11.7"
  }
 },
 "nbformat": 4,
 "nbformat_minor": 5
}
