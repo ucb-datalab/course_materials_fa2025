{
 "cells": [
  {
   "cell_type": "markdown",
   "id": "9829c9df-1e90-42ae-80ed-f209dda9d731",
   "metadata": {},
   "source": [
    "# Lecture 25: Lab 3 and final thoughts\n",
    "\n",
    "### May 1, 2025"
   ]
  },
  {
   "cell_type": "markdown",
   "id": "f0b93e8c-3b28-48ff-bd21-92c4186900ba",
   "metadata": {},
   "source": [
    "# Lab 3 Timeline\n",
    "\n",
    "  - PDF of the Lab is on [GitHub](https://github.com/ucb-datalab/course_materials_sp2025/blob/main/labs/AY128_256_Lab3_image_classification_spring2025.pdf).\n",
    "\n",
    "  - **Assigned**: Tuesday, April 15, 2025\n",
    "  - Final Write Up (in LaTex) Due: Friday, May 9, 2025 by 11:59pm"
   ]
  },
  {
   "cell_type": "markdown",
   "id": "9963d083-eb60-4e5d-bcd9-afa0fd8c3229",
   "metadata": {},
   "source": [
    "# Agenda\n",
    "\n",
    "* Office Hours during R&R Week\n",
    "   - Saahit: Tuesday 5/6 2-3:30pm in Physics 102B\n",
    "   - Dan: Tuesday 5/6 3:30-4:30pm in 355 Campbell\n",
    "   - Saahit: Thursday 5/8 10am-12pm in Physics 102B\n",
    "\n",
    "- Introduction (this notebook, *00_Introduction*)\n",
    "- Check point 2 presentations\n",
    "- Course Evaluation reminder\n",
    "- Final thoughts\n",
    "\n",
    "- work/question time"
   ]
  },
  {
   "cell_type": "markdown",
   "id": "6fee8e6a-7af5-4def-8b5d-d3777cfdc875",
   "metadata": {},
   "source": [
    "### Skills and Topics covered during the semester\n",
    "* Lab 0: Introduction to ADQL and Gaia Data\n",
    "    - Stellar physics & evolution\n",
    "    - fluxes, parallaxes, magnitude system\n",
    "    - Gaia mission\n",
    "    - HR / color-magnitude diagrams\n",
    "    - Databases: SQL/ADQL\n",
    "    - Cluster finding\n",
    "    - Data Caching\n",
    "    - Data visualization\n",
    "* Lab 1: Gaia, RR Lyrae stars, and Galactic Dust\n",
    "    - Variable Stars and time series data\n",
    "    - The Milky Way\n",
    "    - Interstellar Dust\n",
    "    - Databases: SQL/ADQL\n",
    "    - Periodograms and detecting signals in noisy, time series data\n",
    "    - Fourier Decomposition\n",
    "    - Python web queries\n",
    "    - Linear and non-linear optimization\n",
    "    - MCMC: writing your own sampler to using PyMC\n",
    "    - Bayesian inference / parameter estimation\n",
    "    - Data visualization\n",
    "    - Basics of Lab reports\n",
    "* Lab 2: Modeling Stellar Spectra\n",
    "    - Stellar atmospheres\n",
    "    - Spectroscopy\n",
    "    - Chemical Abundances\n",
    "    - Stellar physics and evolution\n",
    "    - SDSS / APOGEE Survey\n",
    "    - Data munging / standardization\n",
    "    - Outlier rejection / removing bad pixels\n",
    "    - Linear models\n",
    "    - Data driven models\n",
    "    - Cross validation\n",
    "    - Non-linear optimization\n",
    "    - more MCMC and Bayesian inference\n",
    "    - importance and utility of gradients\n",
    "* Lab 3: Galaxy image classification and the galaxy merger rate\n",
    "    - Galaxy evolution\n",
    "    - Basic Cosmology\n",
    "    - Galaxy Zoo\n",
    "    - Correlation and Co-variance\n",
    "    - Image classification\n",
    "    - Decision Trees\n",
    "    - Convolutional Neural Nets\n",
    "    - Overfitting & regularization\n",
    "    - Memory mangement\n",
    "    - Data Augmentation\n",
    "    - Basic High performance computing usage\n",
    "    - Basic GPU usage"
   ]
  },
  {
   "cell_type": "markdown",
   "id": "8ae9ec40-6af1-4a2d-82cf-b8736e7d9662",
   "metadata": {},
   "source": [
    "## Getting these notebooks \n",
    "```bash\n",
    "git clone git clone https://github.com/ucb-datalab/course_materials_sp2025.git\n",
    "cd course_materials_sp2025.git\n",
    "jupyter notebook\n",
    "```"
   ]
  },
  {
   "cell_type": "code",
   "execution_count": null,
   "id": "ebb2f3d9-f794-4c4d-b40f-5eee10896703",
   "metadata": {},
   "outputs": [],
   "source": []
  }
 ],
 "metadata": {
  "kernelspec": {
   "display_name": "Python 3 (ipykernel)",
   "language": "python",
   "name": "python3"
  },
  "language_info": {
   "codemirror_mode": {
    "name": "ipython",
    "version": 3
   },
   "file_extension": ".py",
   "mimetype": "text/x-python",
   "name": "python",
   "nbconvert_exporter": "python",
   "pygments_lexer": "ipython3",
   "version": "3.11.7"
  }
 },
 "nbformat": 4,
 "nbformat_minor": 5
}
