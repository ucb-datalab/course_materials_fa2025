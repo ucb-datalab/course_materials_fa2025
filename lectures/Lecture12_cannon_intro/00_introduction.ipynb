{
 "cells": [
  {
   "cell_type": "markdown",
   "id": "9829c9df-1e90-42ae-80ed-f209dda9d731",
   "metadata": {},
   "source": [
    "# Lecture 12: Intro to Lab 2, ``The Cannon\"\n",
    "\n",
    "### Oct 13, 2025"
   ]
  },
  {
   "cell_type": "markdown",
   "id": "f0b93e8c-3b28-48ff-bd21-92c4186900ba",
   "metadata": {},
   "source": [
    "# Lab 2 Timeline\n",
    "\n",
    "  - PDF of the Lab is on [GitHub](https://github.com/ucb-datalab/course_materials_fa2025/blob/main/labs/AY128_Lab2_apogee_spectra_fall2025.pdf)."
   ]
  },
  {
   "cell_type": "markdown",
   "id": "9963d083-eb60-4e5d-bcd9-afa0fd8c3229",
   "metadata": {},
   "source": [
    "# Agenda\n",
    "\n",
    "- Introduction (this notebook, *00_Introduction*)\n",
    "- Lab 1 questions?\n",
    "- Overview of Lab 2\n",
    "- Intro to Stellar Spectra (*01_stellar_spectra*)\n",
    "- Intro to APOGEE and the Cannon (*02_APOGEE_Cannon*)"
   ]
  }
 ],
 "metadata": {
  "kernelspec": {
   "display_name": "Python 3 (ipykernel)",
   "language": "python",
   "name": "python3"
  },
  "language_info": {
   "codemirror_mode": {
    "name": "ipython",
    "version": 3
   },
   "file_extension": ".py",
   "mimetype": "text/x-python",
   "name": "python",
   "nbconvert_exporter": "python",
   "pygments_lexer": "ipython3",
   "version": "3.11.13"
  }
 },
 "nbformat": 4,
 "nbformat_minor": 5
}
