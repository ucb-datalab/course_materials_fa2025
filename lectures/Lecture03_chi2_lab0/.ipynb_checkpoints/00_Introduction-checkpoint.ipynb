{
 "cells": [
  {
   "cell_type": "code",
   "execution_count": 1,
   "metadata": {},
   "outputs": [
    {
     "data": {
      "text/html": [
       "\n",
       "<script src=\"https://stackpath.bootstrapcdn.com/bootstrap/4.3.1/js/bootstrap.min.js\" integrity=\"sha384-JjSmVgyd0p3pXB1rRibZUAYoIIy6OrQ6VrjIEaFf/nJGzIxFDsf4x0xIM+B07jRM\" crossorigin=\"anonymous\"></script>\n",
       "\n",
       "<style>\n",
       "\n",
       "@import url(https://fonts.googleapis.com/css?family=Open+Sans);body{\n",
       "   font-family: 'Open Sans';\n",
       "   font-size: 125%;\n",
       "}\n",
       "\n",
       ".talk_title\n",
       "{\n",
       "  color: #498AF3;\n",
       "  font-size: 275%;\n",
       "  font-weight:bold;\n",
       "  line-height: 1.3; \n",
       "  margin: 10px 50px 10px;\n",
       "  }\n",
       "\n",
       ".subtitle\n",
       "{\n",
       "  color: #386BBC;\n",
       "  font-size: 180%;\n",
       "  font-weight:bold;\n",
       "  line-height: 1.2; \n",
       "  margin: 20px 50px 20px;\n",
       "  }\n",
       "\n",
       ".rendered_html h1\n",
       "{\n",
       "  color: #498AF3;\n",
       "  line-height: 1.2; \n",
       "  margin: 0.15em 0em 0.5em;\n",
       "  page-break-before: always;\n",
       "  text-align: center;\n",
       "  }\n",
       "\n",
       "\n",
       ".center\n",
       "{\n",
       "  text-align: center;\n",
       "  }\n",
       "\n",
       ".nb_link\n",
       "{\n",
       "    padding-bottom: 0.5em;\n",
       "}\n",
       "\n",
       "</style>"
      ],
      "text/plain": [
       "<IPython.core.display.HTML object>"
      ]
     },
     "metadata": {},
     "output_type": "display_data"
    }
   ],
   "source": [
    "%run ../talktools.py"
   ]
  },
  {
   "cell_type": "markdown",
   "metadata": {},
   "source": [
    "# Meeting/Lecture 3 - Jan 30, 2025\n",
    "\n",
    "## Agenda\n",
    "\n",
    "* Office Hours\n",
    "   - Dan: Tues 3:30-4:30pm (355)\n",
    "   - Saahit: Mon 1-3pm (355) and Thu 12:30-2pm (355)\n",
    "   - by appt\n",
    "   - Communications on Ed Discussion\n",
    "* Introduction (this notebook, *00_Introduction*)\n",
    "* Lab 0 Checkpoint 1 feedback (posted on Ed)\n",
    "* Lab 0 Checkpoint 1 presentations\n",
    "* Useful Astro Resources\n",
    "* Intro to $\\chi^2$ (*01_chisq_intro*)\n",
    "* Lab 0 work time\n",
    "\n",
    "## Brief updates\n",
    "\n",
    "* __No lecture or office hours on Tuesday 2/4__\n",
    "\n",
    "\n",
    "## Getting these notebooks \n",
    "```bash\n",
    "git clone git clone https://github.com/ucb-datalab/course_materials_sp2025.git\n",
    "cd course_materials_sp2025.git\n",
    "jupyter notebook\n",
    "```\n",
    "\n",
    "\n",
    "# Useful Astronomy Resources\n",
    "\n",
    "## Local Astro Talks\n",
    "\n",
    "\n",
    "* Thursdays: Astro lunch talks 12:30-1:30pm in 131 Campbell\n",
    "* Astro colloquium Thursdays 3:30-4:30pm in 1 Physics North\n",
    "\n",
    "## NASA Astrophysical data system (ADS):  https://ui.adsabs.harvard.edu\n",
    " - useful for looking up papers\n",
    " - one of the most frequently visited webpages for astronomers\n",
    " \n",
    "## ArXiv: https://arxiv.org\n",
    " - paper pre-print sever\n",
    " - new papers posted almost daily\n",
    " - another of the most frequently visited webpages for astronomers\n",
    " - fun fact: originally created by Berkeley researcher Joanne Cohn\n",
    " \n",
    "## NASA/IPAC Extragalactic Database (NED): https://ned.ipac.caltech.edu\n",
    "\n",
    "## Simbad: https://simbad.u-strasbg.fr/simbad/sim-fbasic\n",
    "\n",
    "- both NED and Simbad are useful for finding basic information about astronomical objects\n",
    "\n"
   ]
  },
  {
   "cell_type": "code",
   "execution_count": null,
   "metadata": {},
   "outputs": [],
   "source": []
  }
 ],
 "metadata": {
  "kernelspec": {
   "display_name": "Python 3 (ipykernel)",
   "language": "python",
   "name": "python3"
  },
  "language_info": {
   "codemirror_mode": {
    "name": "ipython",
    "version": 3
   },
   "file_extension": ".py",
   "mimetype": "text/x-python",
   "name": "python",
   "nbconvert_exporter": "python",
   "pygments_lexer": "ipython3",
   "version": "3.11.7"
  }
 },
 "nbformat": 4,
 "nbformat_minor": 4
}
