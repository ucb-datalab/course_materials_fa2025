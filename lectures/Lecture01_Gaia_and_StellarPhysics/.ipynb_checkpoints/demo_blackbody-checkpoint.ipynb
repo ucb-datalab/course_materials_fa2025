{
 "cells": [
  {
   "cell_type": "markdown",
   "id": "7e9fd0e2",
   "metadata": {
    "slideshow": {
     "slide_type": "subslide"
    }
   },
   "source": [
    "# Interactive Blackbody Animation\n",
    "\n",
    "This notebook uses widgets to illustrate blackbody temperature.\n",
    "\n",
    "\\begin{equation}\n",
    "B_\\nu(T) = \\frac{2h\\nu^2}{c^3}\\frac{1}{e^\\frac{h\\nu}{k_BT} - 1}\n",
    "\\end{equation}\n",
    "\n",
    "\\begin{equation}\n",
    "B_\\lambda(T) = \\frac{2hc^2}{\\lambda^5}\\frac{1}{e^\\frac{hc}{\\lambda k_BT} - 1}\n",
    "\\end{equation}"
   ]
  },
  {
   "cell_type": "code",
   "execution_count": 1,
   "id": "7b216247",
   "metadata": {
    "execution": {
     "iopub.execute_input": "2025-08-27T16:43:35.594294Z",
     "iopub.status.busy": "2025-08-27T16:43:35.594150Z",
     "iopub.status.idle": "2025-08-27T16:43:35.995772Z",
     "shell.execute_reply": "2025-08-27T16:43:35.995267Z",
     "shell.execute_reply.started": "2025-08-27T16:43:35.594279Z"
    }
   },
   "outputs": [],
   "source": [
    "import numpy as np\n",
    "%matplotlib widget\n",
    "import matplotlib.pyplot as plt\n",
    "from matplotlib.animation import FuncAnimation\n",
    "from ipywidgets import interact, FloatSlider, Layout\n",
    "import warnings\n",
    "warnings.filterwarnings('ignore')"
   ]
  },
  {
   "cell_type": "code",
   "execution_count": 2,
   "id": "86875ce6",
   "metadata": {
    "execution": {
     "iopub.execute_input": "2025-08-27T16:43:35.996299Z",
     "iopub.status.busy": "2025-08-27T16:43:35.996140Z",
     "iopub.status.idle": "2025-08-27T16:43:35.999700Z",
     "shell.execute_reply": "2025-08-27T16:43:35.999243Z",
     "shell.execute_reply.started": "2025-08-27T16:43:35.996286Z"
    }
   },
   "outputs": [],
   "source": [
    "# High-level parameters\n",
    "SIZE = 2048     # number of points in each line\n",
    "T0 = 4.     # log10 K, temperature of blackbody\n",
    "LAM_MIN = -8\n",
    "LAM_MAX =  0\n",
    "NU_MIN = 10 - LAM_MAX\n",
    "NU_MAX = 10 - LAM_MIN\n",
    "NSTEPS = 10\n",
    "\n",
    "# Constants\n",
    "h = 6e-27  # erg s\n",
    "c = 3e10  # cm / s\n",
    "k_B = 1.3e-16 # erg / K\n",
    "\n",
    "# Variables derived from parameters above\n",
    "nus = np.logspace(NU_MIN, NU_MAX, SIZE)\n",
    "lam = np.logspace(LAM_MIN, LAM_MAX, SIZE)\n",
    "\n",
    "RP = (640e-7, 1050e-7) # cm\n",
    "BP = (330e-7, 680e-7) # cm\n",
    "G  = (330e-7, 1050-7) # cm"
   ]
  },
  {
   "cell_type": "code",
   "execution_count": 5,
   "id": "1e2ece55",
   "metadata": {
    "execution": {
     "iopub.execute_input": "2025-08-27T16:45:19.335976Z",
     "iopub.status.busy": "2025-08-27T16:45:19.335818Z",
     "iopub.status.idle": "2025-08-27T16:45:19.441087Z",
     "shell.execute_reply": "2025-08-27T16:45:19.440582Z",
     "shell.execute_reply.started": "2025-08-27T16:45:19.335960Z"
    }
   },
   "outputs": [
    {
     "data": {
      "application/vnd.jupyter.widget-view+json": {
       "model_id": "49aa1ae4d90f4e75a67803fbf988e1cb",
       "version_major": 2,
       "version_minor": 0
      },
      "text/plain": [
       "interactive(children=(FloatSlider(value=3.0, description='Log10 Temperature [K]', layout=Layout(grid_area='foo…"
      ]
     },
     "metadata": {},
     "output_type": "display_data"
    },
    {
     "data": {
      "application/vnd.jupyter.widget-view+json": {
       "model_id": "3e7ec3da29be48b9a9c875db4b1cf811",
       "version_major": 2,
       "version_minor": 0
      },
      "image/png": "[encoded data removed]",
      "text/html": [
       "\n",
       "            <div style=\"display: inline-block;\">\n",
       "                <div class=\"jupyter-widgets widget-label\" style=\"text-align: center;\">\n",
       "                    Figure\n",
       "                </div>\n",
       "                <img src='data:image/png;base64,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' width=1000.0/>\n",
       "            </div>\n",
       "        "
      ],
      "text/plain": [
       "Canvas(toolbar=Toolbar(toolitems=[('Home', 'Reset original view', 'home', 'home'), ('Back', 'Back to previous …"
      ]
     },
     "metadata": {},
     "output_type": "display_data"
    }
   ],
   "source": [
    "# Generate the animation figure\n",
    "\n",
    "fig, ax = plt.subplots(ncols=2, figsize=(10,4))\n",
    "bb_n, = ax[0].plot(nus, np.ones_like(nus), 'k') # holds handle for incoming radiation\n",
    "ax[0].axvspan(c / RP[1], c / RP[0], color='red', alpha=0.3)\n",
    "ax[0].axvspan(c / BP[1], c / BP[0], color='blue', alpha=0.3)\n",
    "bb_l, = ax[1].plot(lam, np.ones_like(lam), 'k') # holds handle for incoming radiation\n",
    "ax[1].axvspan(RP[0], RP[1], color='red', alpha=0.3)\n",
    "ax[1].axvspan(BP[0], BP[1], color='blue', alpha=0.3)\n",
    "\n",
    "# Sliders controlling animation\n",
    "T_widget = FloatSlider(3, min=3, max=5, step=.1,\n",
    "                           description='Log10 Temperature [K]',\n",
    "                           style={'description_width':'initial'},\n",
    "                           layout=Layout(width='auto', grid_area='footer'))\n",
    "\n",
    "def animate(t):\n",
    "    '''Update plots for each line according to the time step. Reads dec, dist,\n",
    "    vra, and vdec from widgets. Called repeatedly by FuncAnimation.'''\n",
    "    \n",
    "    T = 10**T_widget.value\n",
    "    y_n = 2 * h * nus**3 / c**2 / (np.exp(h * nus / (k_B * T)) - 1)\n",
    "    y_l = 2 * h * c**2 / lam**5 / (np.exp(h * c / (lam * k_B * T)) - 1)\n",
    "    bb_n.set_ydata(y_n)\n",
    "    bb_l.set_ydata(y_l)\n",
    "    \n",
    "    \n",
    "def init():\n",
    "    '''Set initial plot parameters. Called once by FuncAnimation at beginning.'''\n",
    "    for _ax in ax:\n",
    "        _ax.grid(True)\n",
    "        _ax.set_yscale('log')\n",
    "        _ax.set_xscale('log')\n",
    "    ax[0].set_title('$B_\\\\nu$')\n",
    "    ax[0].set_xlabel('Frequency [Hz]')\n",
    "    ax[0].set_ylabel('Specific Intensity [$I_\\\\nu$]')\n",
    "    ax[0].set_ylim(1e-25, 1e0) # dec\n",
    "    ax[1].set_title('$B_\\\\lambda$')\n",
    "    ax[1].set_xlabel('Wavelength [cm]')\n",
    "    ax[1].set_ylabel('Specific Intensity [$I_\\\\lambda$]')\n",
    "    ax[1].set_ylim(1e0, 1e25) # dec\n",
    "    \n",
    "steps = np.linspace(0, 1, NSTEPS) # simulation interval\n",
    "ani = FuncAnimation(fig, animate, steps, init_func=init, interval=50, blit=True)\n",
    "\n",
    "def build_animation(T):\n",
    "    '''Function which causes FuncAnimation to redraw itself when input widgets change.\n",
    "    Does not actually hand off the value, but needs to accept widget arguments to\n",
    "    be triggered by updating the slider.'''\n",
    "    ani.new_frame_seq()\n",
    "\n",
    "# force animation to redraw when freq_widget changes, even though\n",
    "# the parameter is not actually passed through (used as global, instead)\n",
    "interact(build_animation, T=T_widget)\n",
    "plt.show()"
   ]
  },
  {
   "cell_type": "code",
   "execution_count": null,
   "id": "ceb7e4ed",
   "metadata": {},
   "outputs": [],
   "source": []
  },
  {
   "cell_type": "code",
   "execution_count": null,
   "id": "9e58a5fb-b1d4-472c-9a93-1228b6b4705d",
   "metadata": {},
   "outputs": [],
   "source": []
  }
 ],
 "metadata": {
  "kernelspec": {
   "display_name": "Python 3 (ipykernel)",
   "language": "python",
   "name": "python3"
  },
  "language_info": {
   "codemirror_mode": {
    "name": "ipython",
    "version": 3
   },
   "file_extension": ".py",
   "mimetype": "text/x-python",
   "name": "python",
   "nbconvert_exporter": "python",
   "pygments_lexer": "ipython3",
   "version": "3.11.13"
  }
 },
 "nbformat": 4,
 "nbformat_minor": 5
}
