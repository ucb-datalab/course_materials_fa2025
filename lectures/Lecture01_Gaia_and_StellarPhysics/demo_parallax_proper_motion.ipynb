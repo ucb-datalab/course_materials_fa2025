{
 "cells": [
  {
   "cell_type": "markdown",
   "id": "7e9fd0e2",
   "metadata": {},
   "source": [
    "# Interactive Parallax / Proper Motion Animation\n",
    "\n",
    "This notebook uses widgets to illustrate parallax and proper motion."
   ]
  },
  {
   "cell_type": "code",
   "execution_count": 1,
   "id": "7b216247",
   "metadata": {},
   "outputs": [],
   "source": [
    "import numpy as np\n",
    "%matplotlib widget\n",
    "import matplotlib.pyplot as plt\n",
    "from matplotlib.animation import FuncAnimation\n",
    "from ipywidgets import interact, FloatSlider, Layout"
   ]
  },
  {
   "cell_type": "code",
   "execution_count": 2,
   "id": "86875ce6",
   "metadata": {},
   "outputs": [],
   "source": [
    "# High-level parameters\n",
    "SIZE = 256     # number of points in each line\n",
    "DEC = 45.      # degrees, declination of star\n",
    "DIST = 10      # parsecs, distance to star\n",
    "VPROP_RA = 0   # mas / yr, proper motion in ra direction\n",
    "VPROP_DEC = 0  # mas / yr, proper motion in dec direction\n",
    "NSTEPS = 300   # number of cycles in simulation before repeat\n",
    "STEP = NSTEPS / 60            # fraction of a year per step\n",
    "TAIL = 100                    # number of data points to tail\n",
    "VIEW = 10                     # mas to view\n",
    "\n",
    "# Constants\n",
    "AU = 1.5e13               # cm, astronomical unit\n",
    "PC = 3e18                 # cm, parsec\n",
    "mas = 1 / (60 * 60 * 1e3) # degrees, milliarcsecond\n",
    "\n",
    "# Variables derived from parameters above\n",
    "pos = (np.zeros(TAIL), np.zeros(TAIL))\n",
    "\n",
    "def update_star(t, dec0, dist, vra, vdec):\n",
    "    \"\"\"Launch photon wavelets along each line, propagating radially outward \n",
    "    at one index per simulation cycle.\"\"\"\n",
    "    pos[0][:-1] = pos[0][1:] #  propagate\n",
    "    pos[1][:-1] = pos[1][1:] #  propagate\n",
    "    dra_max = np.arctan2(AU, dist * PC)\n",
    "    ddec_max = np.arctan2(AU * np.sin(dec0), dist * PC)\n",
    "    pos[0][-1] =  vra * t +  dra_max * np.cos(2 * np.pi * STEP * t)\n",
    "    pos[1][-1] = vdec * t + ddec_max * np.sin(2 * np.pi * STEP * t)"
   ]
  },
  {
   "cell_type": "code",
   "execution_count": 3,
   "id": "1e2ece55",
   "metadata": {},
   "outputs": [
    {
     "data": {
      "application/vnd.jupyter.widget-view+json": {
       "model_id": "7e2becbb1e6146ffba14fb7ab7e0816d",
       "version_major": 2,
       "version_minor": 0
      },
      "text/plain": [
       "interactive(children=(FloatSlider(value=45.0, description='Star Declination [degrees]', layout=Layout(grid_are…"
      ]
     },
     "metadata": {},
     "output_type": "display_data"
    },
    {
     "data": {
      "application/vnd.jupyter.widget-view+json": {
       "model_id": "b6c768f4be9a426ea4ae814c674ad7cb",
       "version_major": 2,
       "version_minor": 0
      },
      "image/png": "[encoded data removed]",
      "text/html": [
       "\n",
       "            <div style=\"display: inline-block;\">\n",
       "                <div class=\"jupyter-widgets widget-label\" style=\"text-align: center;\">\n",
       "                    Figure\n",
       "                </div>\n",
       "                <img src='data:image/png;base64,iVBORw0KGgoAAAANSUhEUgAAAlgAAAJYCAYAAAC+ZpjcAAAAOXRFWHRTb2Z0d2FyZQBNYXRwbG90bGliIHZlcnNpb24zLjguMCwgaHR0cHM6Ly9tYXRwbG90bGliLm9yZy81sbWrAAAACXBIWXMAAA9hAAAPYQGoP6dpAAAlLUlEQVR4nO3dfYyV5Z34/8+UhxltmSOVMgOKgq5fHoImihFhw2I2dgCr1ZZNfajTbuO6so1FIK7PLQQSENa41i8qW8Td7n676raIYROWQNdKjAwqBpRVNGmL4FZGhOIcVt3h6f794Y8J4wyI7WeYwXm9khNzrnPdZ67rFj1v7znnWFEURREAAKT5QmcvAADg80ZgAQAkE1gAAMkEFgBAMoEFAJBMYAEAJBNYAADJBBYAQDKBBQCQTGABACQTWAAAyQQWAEAygQUAkExgAQAkE1gAAMkEFgBAMoEFAJBMYAEAJBNYAADJBBYAQDKBBQCQTGABACQTWAAAyQQWAEAygQUAkExgAQAkE1gAAMkEFgBAMoEFAJBMYAEAJBNYAADJBBYAQDKBBQCQTGABACQTWAAAyQQWAEAygQUAkExgAQAkE1gAAMkEFgBAMoEFAJBMYAEAJBNYAADJBBYAQDKBBQCQTGABACQTWAAAyQQWAEAygQUAkExgAQAkE1gAAMkEFgBAMoEFAJBMYAEAJBNYAADJBBYAQDKBBQCQTGABACQTWAAAyQQWAEAygQUAkExgAQAkE1gAAMkEFgBAMoEFAJBMYAEAJBNYAADJBBYAQDKBBQCQTGABACTr2dkLOFEcPHgw3nnnnejTp09UVFR09nIA4IRRFEXs2bMnBg4cGF/4Qve4tiOwjtE777wTgwYN6uxlAMAJ6+23347TTz+9s5dxXAisY9SnT5+I+PgPR3V1dSevBgBOHOVyOQYNGtTyWtodCKxjdOjXgtXV1QILAP4A3ektNt3jF6EAAMeRwAIASCawAACSCSwAgGQCCwAgmcACAEgmsAAAkgksAIBkAgsAIJnAAgBIJrAAAJIJLACAZAILACCZwAIASCawAACSCSwAgGQCCwAgmcACAEgmsAAAkgksAIBkAgsAIJnAAgBIJrAAAJIJLACAZAILACCZwAIASCawAACSCSwAgGQCCwAgmcACAEgmsAAAkgksAIBkAgsAIJnAAgBIJrAAAJIJLACAZAILACCZwAIASCawAACSCSwAgGQCCwAgmcACAEgmsAAAkgksAIBkAgsAIJnAAgBIJrAAAJIJLACAZAILACCZwAIASCawAACSCSwAgGQCCwAgmcACAEgmsAAAknXJwHr44YdjyJAhUVVVFaNGjYrnnnvuqPPXrFkTo0aNiqqqqjjrrLNi0aJFR5z7xBNPREVFRVx11VXJqwYA+FiXC6wnn3wypk2bFnfffXds2LAhxo0bF5MmTYpt27a1O3/Lli1x2WWXxbhx42LDhg1x1113xdSpU2Pp0qVt5m7dujVuvfXWGDduXEdvAwDoxiqKoig6exGHGz16dFxwwQXxyCOPtIwNHz48rrrqqpg3b16b+bfffnssX748Nm/e3DI2ZcqUeOWVV6KhoaFl7MCBAzF+/Pj43ve+F88991y8//778fTTTx/zusrlcpRKpWhqaorq6uo/bHMA0A11x9fQLnUFa+/evfHyyy9HXV1dq/G6urpYu3Ztu8c0NDS0mT9hwoRYv3597Nu3r2Vs9uzZ8ZWvfCVuuOGG/IUDABymZ2cv4HA7d+6MAwcORE1NTavxmpqaaGxsbPeYxsbGdufv378/du7cGQMGDIjnn38+lixZEhs3bjzmtTQ3N0dzc3PL/XK5fOwbAQC6tS51BeuQioqKVveLomgz9mnzD43v2bMnrr/++li8eHH069fvmNcwb968KJVKLbdBgwZ9hh0AAN1Zl7qC1a9fv+jRo0ebq1U7duxoc5XqkNra2nbn9+zZM0499dR47bXX4q233oorrrii5fGDBw9GRETPnj3jzTffjLPPPrvN8955550xY8aMlvvlcllkAQDHpEsFVu/evWPUqFGxevXq+MY3vtEyvnr16rjyyivbPWbMmDHx7//+763GVq1aFRdeeGH06tUrhg0bFps2bWr1+D333BN79uyJH//4x0eMpsrKyqisrPwjdwQAdEddKrAiImbMmBH19fVx4YUXxpgxY+InP/lJbNu2LaZMmRIRH19Z+t3vfhf//M//HBEff2Jw4cKFMWPGjLjxxhujoaEhlixZEo8//nhERFRVVcXIkSNb/YxTTjklIqLNOABAhi4XWFdffXXs2rUrZs+eHdu3b4+RI0fGihUr4swzz4yIiO3bt7f6TqwhQ4bEihUrYvr06fHQQw/FwIED48EHH4zJkyd31hYAgG6uy30PVlfVHb/DAwAydMfX0C75KUIAgBOZwAIASCawAACSCSwAgGQCCwAgmcACAEgmsAAAkgksAIBkAgsAIJnAAgBIJrAAAJIJLACAZAILACCZwAIASCawAACSCSwAgGQCCwAgmcACAEgmsAAAkgksAIBkAgsAIJnAAgBIJrAAAJIJLACAZAILACCZwAIASCawAACSCSwAgGQCCwAgmcACAEgmsAAAkgksAIBkAgsAIJnAAgBIJrAAAJIJLACAZAILACCZwAIASCawAACSCSwAgGQCCwAgmcACAEgmsAAAkgksAIBkAgsAIJnAAgBIJrAAAJIJLACAZAILACCZwAIASCawAACSCSwAgGQCCwAgmcACAEgmsAAAkgksAIBkAgsAIJnAAgBIJrAAAJIJLACAZAILACCZwAIASCawAACSCSwAgGQCCwAgmcACAEgmsAAAkgksAIBkAgsAIJnAAgBIJrAAAJIJLACAZAILACBZlwyshx9+OIYMGRJVVVUxatSoeO655446f82aNTFq1KioqqqKs846KxYtWtTq8cWLF8e4ceOib9++0bdv37j00kvjxRdf7MgtAADdWJcLrCeffDKmTZsWd999d2zYsCHGjRsXkyZNim3btrU7f8uWLXHZZZfFuHHjYsOGDXHXXXfF1KlTY+nSpS1znn322bj22mvjV7/6VTQ0NMQZZ5wRdXV18bvf/e54bQsA6EYqiqIoOnsRhxs9enRccMEF8cgjj7SMDR8+PK666qqYN29em/m33357LF++PDZv3twyNmXKlHjllVeioaGh3Z9x4MCB6Nu3byxcuDC+853vHNO6yuVylEqlaGpqiurq6s+4KwDovrrja2iXuoK1d+/eePnll6Ourq7VeF1dXaxdu7bdYxoaGtrMnzBhQqxfvz727dvX7jEffvhh7Nu3L7785S/nLBwA4DA9O3sBh9u5c2ccOHAgampqWo3X1NREY2Nju8c0Nja2O3///v2xc+fOGDBgQJtj7rjjjjjttNPi0ksvPeJampubo7m5ueV+uVz+LFsBALqxLnUF65CKiopW94uiaDP2afPbG4+IWLBgQTz++OPx1FNPRVVV1RGfc968eVEqlVpugwYN+ixbAAC6sS4VWP369YsePXq0uVq1Y8eONlepDqmtrW13fs+ePePUU09tNX7ffffF3LlzY9WqVXHeeecddS133nlnNDU1tdzefvvtP2BHAEB31KUCq3fv3jFq1KhYvXp1q/HVq1fH2LFj2z1mzJgxbeavWrUqLrzwwujVq1fL2N/93d/FnDlzYuXKlXHhhRd+6loqKyujurq61Q0A4Fh0qcCKiJgxY0Y8+uij8dhjj8XmzZtj+vTpsW3btpgyZUpEfHxl6fBP/k2ZMiW2bt0aM2bMiM2bN8djjz0WS5YsiVtvvbVlzoIFC+Kee+6Jxx57LAYPHhyNjY3R2NgY//M//3Pc9wcAfP51qTe5R0RcffXVsWvXrpg9e3Zs3749Ro4cGStWrIgzzzwzIiK2b9/e6juxhgwZEitWrIjp06fHQw89FAMHDowHH3wwJk+e3DLn4Ycfjr1798Zf/MVftPpZM2fOjFmzZh2XfQEA3UeX+x6srqo7focHAGTojq+hXe5XhAAAJzqBBQCQTGABACQTWAAAyQQWAEAygQUAkExgAQAkE1gAAMkEFgBAMoEFAJBMYAEAJBNYAADJBBYAQDKBBQCQTGABACQTWAAAyQQWAEAygQUAkExgAQAkE1gAAMkEFgBAMoEFAJBMYAEAJBNYAADJBBYAQDKBBQCQTGABACQTWAAAyQQWAEAygQUAkExgAQAkE1gAAMkEFgBAMoEFAJBMYAEAJBNYAADJBBYAQDKBBQCQTGABACQTWAAAyQQWAEAygQUAkExgAQAkE1gAAMkEFgBAMoEFAJBMYAEAJBNYAADJBBYAQDKBBQCQTGABACQTWAAAyQQWAEAygQUAkExgAQAkE1gAAMkEFgBAMoEFAJBMYAEAJBNYAADJBBYAQDKBBQCQTGABACQTWAAAyQQWAEAygQUAkExgAQAkE1gAAMkEFgBAMoEFAJBMYAEAJBNYAADJBBYAQLIuGVgPP/xwDBkyJKqqqmLUqFHx3HPPHXX+mjVrYtSoUVFVVRVnnXVWLFq0qM2cpUuXxogRI6KysjJGjBgRy5Yt66jlAwDdXJcLrCeffDKmTZsWd999d2zYsCHGjRsXkyZNim3btrU7f8uWLXHZZZfFuHHjYsOGDXHXXXfF1KlTY+nSpS1zGhoa4uqrr476+vp45ZVXor6+Pr71rW/FCy+8cLy2BXSAWbNmxZw5cyIiory+HBv/fGOU15cjImLOnDkxa9asTlwd0J1VFEVRdPYiDjd69Oi44IIL4pFHHmkZGz58eFx11VUxb968NvNvv/32WL58eWzevLllbMqUKfHKK69EQ0NDRERcffXVUS6X4z/+4z9a5kycODH69u0bjz/++DGtq1wuR6lUiqampqiurv5DtwckmjNnTvzoRz+K2bNnxzXvXRO/+7+/i9OmnhZP9HuiZfyHP/xhZy8Tur3u+Brapa5g7d27N15++eWoq6trNV5XVxdr165t95iGhoY28ydMmBDr16+Pffv2HXXOkZ4TODH87Xf+Nu6fcn/8y4/+JbY8tiUiIrYs2RL/8qN/ifun3B9/+52/7eQVAt1Vz85ewOF27twZBw4ciJqamlbjNTU10djY2O4xjY2N7c7fv39/7Ny5MwYMGHDEOUd6zoiI5ubmaG5ubrlfLpc/63aADrZu8Lo4P86Pn8RPovjg44vxvT7oFT+Jn0Qsili3aF1cUlzSuYsEuqUudQXrkIqKilb3i6JoM/Zp8z85/lmfc968eVEqlVpugwYNOub1A8fH8P83PCp6fvzPcUV84q89K2L4/xveaWsDurcuFVj9+vWLHj16tLmytGPHjjZXoA6pra1td37Pnj3j1FNPPeqcIz1nRMSdd94ZTU1NLbe33377D9kS0IFqvl0TF7xwQbuPXfDCBVHz7SP/Mw7QkbpUYPXu3TtGjRoVq1evbjW+evXqGDt2bLvHjBkzps38VatWxYUXXhi9evU66pwjPWdERGVlZVRXV7e6AV3P4sWLIyKiqCha/fXQOEBn6FKBFRExY8aMePTRR+Oxxx6LzZs3x/Tp02Pbtm0xZcqUiPj4ytJ3vvOdlvlTpkyJrVu3xowZM2Lz5s3x2GOPxZIlS+LWW29tmXPLLbfEqlWrYv78+fHGG2/E/Pnz45e//GVMmzbteG8PSDRnzpyYt2he7P3S3qi+sDr+z6L/E9UXVsfeL+2NeYvmtXyFA8Dx1qXe5B7x8Vcq7Nq1K2bPnh3bt2+PkSNHxooVK+LMM8+MiIjt27e3+k6sIUOGxIoVK2L69Onx0EMPxcCBA+PBBx+MyZMnt8wZO3ZsPPHEE3HPPffED3/4wzj77LPjySefjNGjRx/3/QF5Dhw4EFNnT41Lb7s0KnpXREVFRQz46wFR7C1i6oKpceDAgc5eItBNdbnvweqquuN3eABAhu74GtrlfkUIAHCiE1gAAMkEFgBAMoEFAJBMYAEAJBNYAADJBBYAQDKBBQCQTGABACQTWAAAyQQWAEAygQUAkExgAQAkE1gAAMkEFgBAMoEFAJBMYAEAJBNYAADJBBYAQDKBBQCQTGABACQTWAAAyQQWAEAygQUAkExgAQAkE1gAAMkEFgBAMoEFAJBMYAEAJBNYAADJBBYAQDKBBQCQTGABACQTWAAAyQQWAEAygQUAkExgAQAkE1gAAMkEFgBAMoEFAJBMYAEAJBNYAADJBBYAQDKBBQCQTGABACQTWAAAyQQWAEAygQUAkExgAQAkE1gAAMkEFgBAMoEFAJBMYAEAJBNYAADJBBYAQDKBBQCQTGABACQTWAAAyQQWAEAygQUAkExgAQAkE1gAAMkEFgBAMoEFAJBMYAEAJBNYAADJBBYAQDKBBQCQTGABACQTWAAAyQQWAEAygQUAkExgAQAk61KBtXv37qivr49SqRSlUinq6+vj/fffP+oxRVHErFmzYuDAgXHSSSfFJZdcEq+99lrL47///e/jBz/4QQwdOjROPvnkOOOMM2Lq1KnR1NTUwbsBALqrLhVY1113XWzcuDFWrlwZK1eujI0bN0Z9ff1Rj1mwYEHcf//9sXDhwnjppZeitrY2vvrVr8aePXsiIuKdd96Jd955J+67777YtGlT/NM//VOsXLkybrjhhuOxJQCgG6ooiqLo7EVERGzevDlGjBgR69ati9GjR0dExLp162LMmDHxxhtvxNChQ9scUxRFDBw4MKZNmxa33357REQ0NzdHTU1NzJ8/P2666aZ2f9bPf/7zuP766+ODDz6Inj17HtP6yuVylEqlaGpqiurq6j9wlwDQ/XTH19AucwWroaEhSqVSS1xFRFx88cVRKpVi7dq17R6zZcuWaGxsjLq6upaxysrKGD9+/BGPiYiWv8HHGlcAAJ9FlymMxsbG6N+/f5vx/v37R2Nj4xGPiYioqalpNV5TUxNbt25t95hdu3bFnDlzjnh165Dm5uZobm5uuV8ul486HwDgkA6/gjVr1qyoqKg46m39+vUREVFRUdHm+KIo2h0/3CcfP9Ix5XI5vva1r8WIESNi5syZR33OefPmtbzZvlQqxaBBgz5tqwAAEXEcrmDdfPPNcc011xx1zuDBg+PVV1+Nd999t81j7733XpsrVIfU1tZGxMdXsgYMGNAyvmPHjjbH7NmzJyZOnBhf+tKXYtmyZdGrV6+jrunOO++MGTNmtNwvl8siCwA4Jh0eWP369Yt+/fp96rwxY8ZEU1NTvPjii3HRRRdFRMQLL7wQTU1NMXbs2HaPGTJkSNTW1sbq1avj/PPPj4iIvXv3xpo1a2L+/Pkt88rlckyYMCEqKytj+fLlUVVV9anrqaysjMrKymPZIgBAK13mTe7Dhw+PiRMnxo033hjr1q2LdevWxY033hiXX355q08QDhs2LJYtWxYRH/9qcNq0aTF37txYtmxZ/Nd//Vf85V/+ZZx88slx3XXXRcTHV67q6urigw8+iCVLlkS5XI7GxsZobGyMAwcOdMpeAYDPty7zJveIiJ/97GcxderUlk8Ffv3rX4+FCxe2mvPmm2+2+pLQ2267LT766KP4/ve/H7t3747Ro0fHqlWrok+fPhER8fLLL8cLL7wQERF/8id/0uq5tmzZEoMHD+7AHQEA3VGX+R6srq47focHAGTojq+hXeZXhAAAnxcCCwAgmcACAEgmsAAAkgksAIBkAgsAIJnAAgBIJrAAAJIJLACAZAILACCZwAIASCawAACSCSwAgGQCCwAgmcACAEgmsAAAkgksAIBkAgsAIJnAAgBIJrAAAJIJLACAZAILACCZwAIASCawAACSCSwAgGQCCwAgmcACAEgmsAAAkgksAIBkAgsAIJnAAgBIJrAAAJIJLACAZAILACCZwAIASCawAACSCSwAgGQCCwAgmcACAEgmsAAAkgksAIBkAgsAIJnAAgBIJrAAAJIJLACAZAILACCZwAIASCawAACSCSwAgGQCCwAgmcACAEgmsAAAkgksAIBkAgsAIJnAAgBIJrAAAJIJLACAZAILACCZwAIASCawAACSCSwAgGQCCwAgmcACAEgmsAAAkgksAIBkAgsAIJnAAgBIJrAAAJIJLACAZAILACCZwAIASCawAACSCSwAgGRdKrB2794d9fX1USqVolQqRX19fbz//vtHPaYoipg1a1YMHDgwTjrppLjkkkvitddeO+LcSZMmRUVFRTz99NP5GwAAiC4WWNddd11s3LgxVq5cGStXroyNGzdGfX39UY9ZsGBB3H///bFw4cJ46aWXora2Nr761a/Gnj172sx94IEHoqKioqOWDwAQERE9O3sBh2zevDlWrlwZ69ati9GjR0dExOLFi2PMmDHx5ptvxtChQ9scUxRFPPDAA3H33XfHN7/5zYiI+OlPfxo1NTXxr//6r3HTTTe1zH3llVfi/vvvj5deeikGDBhwfDYFAHRLXeYKVkNDQ5RKpZa4ioi4+OKLo1Qqxdq1a9s9ZsuWLdHY2Bh1dXUtY5WVlTF+/PhWx3z44Ydx7bXXxsKFC6O2trbjNgEAEF3oClZjY2P079+/zXj//v2jsbHxiMdERNTU1LQar6mpia1bt7bcnz59eowdOzauvPLKY15Pc3NzNDc3t9wvl8vHfCwA0L11+BWsWbNmRUVFxVFv69evj4ho9/1RRVF86vumPvn44ccsX748nnnmmXjggQc+07rnzZvX8mb7UqkUgwYN+kzHAwDdV4dfwbr55pvjmmuuOeqcwYMHx6uvvhrvvvtum8fee++9NleoDjn0677GxsZW76vasWNHyzHPPPNM/OY3v4lTTjml1bGTJ0+OcePGxbPPPtvuc995550xY8aMlvvlcllkAQDHpMMDq1+/ftGvX79PnTdmzJhoamqKF198MS666KKIiHjhhReiqakpxo4d2+4xQ4YMidra2li9enWcf/75ERGxd+/eWLNmTcyfPz8iIu644474q7/6q1bHnXvuufH3f//3ccUVVxxxPZWVlVFZWXlMewQAOFyXeQ/W8OHDY+LEiXHjjTfGP/zDP0RExF//9V/H5Zdf3uoThMOGDYt58+bFN77xjaioqIhp06bF3Llz45xzzolzzjkn5s6dGyeffHJcd911EfHxVa723th+xhlnxJAhQ47P5gCAbqXLBFZExM9+9rOYOnVqy6cCv/71r8fChQtbzXnzzTejqamp5f5tt90WH330UXz/+9+P3bt3x+jRo2PVqlXRp0+f47p2AIBDKoqiKDp7ESeCcrkcpVIpmpqaorq6urOXAwAnjO74GtplvgcLAODzQmABACQTWAAAyQQWAEAygQUAkExgAQAkE1gAAMkEFgBAMoEFAJBMYAEAJBNYAADJBBYAQDKBBQCQTGABACQTWAAAyQQWAEAygQUAkExgAQAkE1gAAMkEFgBAMoEFAJBMYAEAJBNYAADJBBYAQDKBBQCQTGABACQTWAAAyQQWAEAygQUAkExgAQAkE1gAAMkEFgBAMoEFAJBMYAEAJBNYAADJBBYAQDKBBQCQTGABACQTWAAAyQQWAEAygQUAkExgAQAkE1gAAMkEFgBAMoEFAJBMYAEAJBNYAADJBBYAQDKBBQCQTGABACQTWAAAyQQWAEAygQUAkExgAQAkE1gAAMkEFgBAsp6dvYATRVEUERFRLpc7eSUAcGI59Np56LW0OxBYx2jPnj0RETFo0KBOXgkAnJj27NkTpVKps5dxXFQU3Skn/wgHDx6Md955J/r06RMVFRWdvZzjqlwux6BBg+Ltt9+O6urqzl7O54Jzms85zeV85uvO57QoitizZ08MHDgwvvCF7vHuJFewjtEXvvCFOP300zt7GZ2qurq62/1LoaM5p/mc01zOZ77uek67y5WrQ7pHRgIAHEcCCwAgmcDiU1VWVsbMmTOjsrKys5fyueGc5nNOczmf+ZzT7sWb3AEAkrmCBQCQTGABACQTWAAAyQQWAEAygUVEROzevTvq6+ujVCpFqVSK+vr6eP/99496TFEUMWvWrBg4cGCcdNJJcckll8Rrr712xLmTJk2KioqKePrpp/M30MV0xPn8/e9/Hz/4wQ9i6NChcfLJJ8cZZ5wRU6dOjaampg7eTed4+OGHY8iQIVFVVRWjRo2K55577qjz16xZE6NGjYqqqqo466yzYtGiRW3mLF26NEaMGBGVlZUxYsSIWLZsWUctv8vJPp+LFy+OcePGRd++faNv375x6aWXxosvvtiRW+hyOuLP6CFPPPFEVFRUxFVXXZW8ao6bAoqimDhxYjFy5Mhi7dq1xdq1a4uRI0cWl19++VGPuffee4s+ffoUS5cuLTZt2lRcffXVxYABA4pyudxm7v33319MmjSpiIhi2bJlHbSLrqMjzuemTZuKb37zm8Xy5cuLX//618V//ud/Fuecc04xefLk47Gl4+qJJ54oevXqVSxevLh4/fXXi1tuuaX44he/WGzdurXd+b/97W+Lk08+ubjllluK119/vVi8eHHRq1ev4he/+EXLnLVr1xY9evQo5s6dW2zevLmYO3du0bNnz2LdunXHa1udpiPO53XXXVc89NBDxYYNG4rNmzcX3/ve94pSqVT893//9/HaVqfqiHN6yFtvvVWcdtppxbhx44orr7yyg3dCRxFYFK+//noREa1eaBoaGoqIKN544412jzl48GBRW1tb3HvvvS1j//u//1uUSqVi0aJFreZu3LixOP3004vt27d3i8Dq6PN5uH/7t38revfuXezbty9vA13ARRddVEyZMqXV2LBhw4o77rij3fm33XZbMWzYsFZjN910U3HxxRe33P/Wt75VTJw4sdWcCRMmFNdcc03Sqruujjifn7R///6iT58+xU9/+tM/fsEngI46p/v37y/+9E//tHj00UeL7373uwLrBOZXhERDQ0OUSqUYPXp0y9jFF18cpVIp1q5d2+4xW7ZsicbGxqirq2sZq6ysjPHjx7c65sMPP4xrr702Fi5cGLW1tR23iS6kI8/nJzU1NUV1dXX07Pn5+d+K7t27N15++eVW5yIioq6u7ojnoqGhoc38CRMmxPr162Pfvn1HnXO08/t50FHn85M+/PDD2LdvX3z5y1/OWXgX1pHndPbs2fGVr3wlbrjhhvyFc1wJLKKxsTH69+/fZrx///7R2Nh4xGMiImpqalqN19TUtDpm+vTpMXbs2LjyyisTV9y1deT5PNyuXbtizpw5cdNNN/2RK+5adu7cGQcOHPhM56KxsbHd+fv374+dO3cedc6RnvPzoqPO5yfdcccdcdppp8Wll16as/AurKPO6fPPPx9LliyJxYsXd8zCOa4E1ufYrFmzoqKi4qi39evXR0RERUVFm+OLomh3/HCffPzwY5YvXx7PPPNMPPDAAzkb6mSdfT4PVy6X42tf+1qMGDEiZs6c+Ufsqus61nNxtPmfHP+sz/l50hHn85AFCxbE448/Hk899VRUVVUlrPbEkHlO9+zZE9dff30sXrw4+vXrl79YjrvPz+8VaOPmm2+Oa6655qhzBg8eHK+++mq8++67bR5777332vwX1yGHft3X2NgYAwYMaBnfsWNHyzHPPPNM/OY3v4lTTjml1bGTJ0+OcePGxbPPPvsZdtP5Ovt8HrJnz56YOHFifOlLX4ply5ZFr169PutWurR+/fpFjx492lwJaO9cHFJbW9vu/J49e8app5561DlHes7Pi446n4fcd999MXfu3PjlL38Z5513Xu7iu6iOOKevvfZavPXWW3HFFVe0PH7w4MGIiOjZs2e8+eabcfbZZyfvhA7VSe/9ogs59KbsF154oWVs3bp1x/Sm7Pnz57eMNTc3t3pT9vbt24tNmza1ukVE8eMf/7j47W9/27Gb6kQddT6LoiiampqKiy++uBg/fnzxwQcfdNwmOtlFF11U/M3f/E2rseHDhx/1DcTDhw9vNTZlypQ2b3KfNGlSqzkTJ07sNm9yzz6fRVEUCxYsKKqrq4uGhobcBZ8Ass/pRx991Obfl1deeWXx53/+58WmTZuK5ubmjtkIHUZgURTFxy805513XtHQ0FA0NDQU5557bpuvFRg6dGjx1FNPtdy/9957i1KpVDz11FPFpk2bimuvvfaIX9NwSHSDTxEWRcecz3K5XIwePbo499xzi1//+tfF9u3bW2779+8/rvvraIc+Ar9kyZLi9ddfL6ZNm1Z88YtfLN56662iKIrijjvuKOrr61vmH/oI/PTp04vXX3+9WLJkSZuPwD///PNFjx49invvvbfYvHlzce+993a7r2nIPJ/z588vevfuXfziF79o9Wdxz549x31/naEjzukn+RThiU1gURRFUezatav49re/XfTp06fo06dP8e1vf7vYvXt3qzkRUfzjP/5jy/2DBw8WM2fOLGpra4vKysriz/7sz4pNmzYd9ed0l8DqiPP5q1/9qoiIdm9btmw5Phs7jh566KHizDPPLHr37l1ccMEFxZo1a1oe++53v1uMHz++1fxnn322OP/884vevXsXgwcPLh555JE2z/nzn/+8GDp0aNGrV69i2LBhxdKlSzt6G11G9vk888wz2/2zOHPmzOOwm66hI/6MHk5gndgqiuL/f5cdAAApfIoQACCZwAIASCawAACSCSwAgGQCCwAgmcACAEgmsAAAkgksAIBkAgsAIJnAAgBIJrAAAJIJLACAZAILACCZwAIASCawAACSCSwAgGQCCwAgmcACAEgmsAAAkgksAIBkAgsAIJnAAgBIJrAAAJIJLACAZAILACCZwAIASCawAACSCSwAgGQCCwAgmcACAEgmsAAAkgksAIBkAgsAIJnAAgBIJrAAAJIJLACAZAILACCZwAIASCawAACSCSwAgGQCCwAgmcACAEgmsAAAkgksAIBk/x8w6FKGZzVkKwAAAABJRU5ErkJggg==' width=600.0/>\n",
       "            </div>\n",
       "        "
      ],
      "text/plain": [
       "Canvas(toolbar=Toolbar(toolitems=[('Home', 'Reset original view', 'home', 'home'), ('Back', 'Back to previous …"
      ]
     },
     "metadata": {},
     "output_type": "display_data"
    }
   ],
   "source": [
    "# Generate the animation figure\n",
    "\n",
    "fig, (ax1) = plt.subplots(figsize=(6,6))\n",
    "srcpos_J2000, = ax1.plot([0], [0], 'kx')  # plot catalog source position\n",
    "srcpos_cur, = ax1.plot(pos[0][-1:], pos[1][-1:], 'm*')\n",
    "srctrack, = ax1.plot(pos[0], pos[1], 'k') # holds handle for incoming radiation\n",
    "\n",
    "# Sliders controlling animation\n",
    "dec_widget = FloatSlider(DEC, min=0, max=90, step=0.01,\n",
    "                           description='Star Declination [degrees]',\n",
    "                           style={'description_width':'initial'},\n",
    "                           layout=Layout(width='auto', grid_area='footer'))\n",
    "dist_widget = FloatSlider(DIST, min=0, max=20.0, step=0.5,\n",
    "                           description='Star Distance [pc]',\n",
    "                           style={'description_width':'initial'},\n",
    "                           layout=Layout(width='auto', grid_area='footer'))\n",
    "vra_widget  = FloatSlider(VPROP_RA, min=-10.0, max=10.0, step=0.1,\n",
    "                           description='Star RA velocity [mas/yr]',\n",
    "                           style={'description_width':'initial'},\n",
    "                           layout=Layout(width='auto', grid_area='footer'))\n",
    "vdec_widget = FloatSlider(VPROP_DEC, min=-10.0, max=10.0, step=0.1,\n",
    "                           description='Star DEC velocity [mas/yr]',\n",
    "                           style={'description_width':'initial'},\n",
    "                           layout=Layout(width='auto', grid_area='footer'))\n",
    "\n",
    "def animate(t):\n",
    "    '''Update plots for each line according to the time step. Reads dec, dist,\n",
    "    vra, and vdec from widgets. Called repeatedly by FuncAnimation.'''\n",
    "    dec0 = dec_widget.value\n",
    "    dist = dist_widget.value\n",
    "    vra = vra_widget.value * mas\n",
    "    vdec = vdec_widget.value * mas\n",
    "    update_star(t, dec0, dist, vra, vdec)\n",
    "    srctrack.set_xdata(pos[0] / mas)\n",
    "    srctrack.set_ydata(pos[1] / mas)\n",
    "    srcpos_cur.set_xdata(pos[0][-1:] / mas)\n",
    "    srcpos_cur.set_ydata(pos[1][-1:] / mas)\n",
    "    \n",
    "    \n",
    "def init():\n",
    "    '''Set initial plot parameters. Called once by FuncAnimation at beginning.'''\n",
    "    ax1.set_xlim(-VIEW, VIEW) # ra\n",
    "    ax1.set_ylim(-VIEW, VIEW) # dec\n",
    "    ax1.set_xlabel('$\\Delta$RA [mas]')\n",
    "    ax1.set_ylabel('$\\Delta$DEC [mas]')\n",
    "    ax1.set_title('Parallax and Proper Motion')\n",
    "    ax1.grid(True)\n",
    "    \n",
    "steps = np.linspace(0, 1, NSTEPS) # simulation interval\n",
    "ani = FuncAnimation(fig, animate, steps, init_func=init, interval=50, blit=True)\n",
    "\n",
    "def build_animation(dec, dist, vra, vdec):\n",
    "    '''Function which causes FuncAnimation to redraw itself when input widgets change.\n",
    "    Does not actually hand off the value, but needs to accept widget arguments to\n",
    "    be triggered by updating the slider.'''\n",
    "    ani.new_frame_seq()\n",
    "\n",
    "# force animation to redraw when freq_widget changes, even though\n",
    "# the parameter is not actually passed through (used as global, instead)\n",
    "interact(build_animation, dec=dec_widget, dist=dist_widget, vra=vra_widget, vdec=vdec_widget)\n",
    "plt.show()"
   ]
  },
  {
   "cell_type": "code",
   "execution_count": null,
   "id": "0c7fab48-ee5b-455a-8ca2-9014358c8e41",
   "metadata": {},
   "outputs": [],
   "source": []
  },
  {
   "cell_type": "code",
   "execution_count": null,
   "id": "d68a8f74-bc89-4b37-8dac-c688b31e8e0f",
   "metadata": {},
   "outputs": [],
   "source": []
  }
 ],
 "metadata": {
  "kernelspec": {
   "display_name": "Python 3 (ipykernel)",
   "language": "python",
   "name": "python3"
  },
  "language_info": {
   "codemirror_mode": {
    "name": "ipython",
    "version": 3
   },
   "file_extension": ".py",
   "mimetype": "text/x-python",
   "name": "python",
   "nbconvert_exporter": "python",
   "pygments_lexer": "ipython3",
   "version": "3.11.7"
  }
 },
 "nbformat": 4,
 "nbformat_minor": 5
}
