{
 "cells": [
  {
   "cell_type": "markdown",
   "id": "7e9fd0e2",
   "metadata": {},
   "source": [
    "# Interactive Parallax / Proper Motion Animation\n",
    "\n",
    "This notebook uses widgets to illustrate parallax and proper motion."
   ]
  },
  {
   "cell_type": "markdown",
   "id": "eb8ffb9b-c020-4dbe-b970-1a19342c59dc",
   "metadata": {},
   "source": [
    "### Key concepts\n",
    "\n",
    "* An object's position on the sky is generally reported in angular coordinates of right ascension (RA) and declination (Dec).\n",
    "* An object's __proper motion__ is its projected angular motion in the plane of the sky (units of milliarcseconds/year ($mas/yr$)).\n",
    "* 1 arcsec = 1/60 arcmin = 1/3600 deg\n",
    "* 1 arcsec != 1 second (sometimes seen for RA, which has time-like coordinates of hrs:min:sec)\n",
    "* __Parallax__ ($\\pi$) measures angular displacement over the Earth's orbital cycle.\n",
    "* In the small-angle limit ($r/d=\\tan\\theta\\approx\\theta$), parallax is inversely proportional to distance: $d~\\rm{pc}=1/\\pi$\".\n",
    "* 1 pc = 3.26 ly = 206265 AU = $3.1\\times10^{16}~m$"
   ]
  },
  {
   "cell_type": "markdown",
   "id": "3fe59920-e69c-4246-967e-18df689b8c3d",
   "metadata": {},
   "source": [
    "<img width=\"50%\" src=\"data/hip_obs.gif\">\n",
    "\n",
    "*Figures and text from: http://www.faculty.virginia.edu/ASTR5610/lectures/VELOCITIES/velocities.html*\n",
    "(website no longer available)"
   ]
  },
  {
   "cell_type": "code",
   "execution_count": 1,
   "id": "7b216247",
   "metadata": {
    "execution": {
     "iopub.execute_input": "2025-09-02T20:56:53.045482Z",
     "iopub.status.busy": "2025-09-02T20:56:53.045150Z",
     "iopub.status.idle": "2025-09-02T20:56:53.484728Z",
     "shell.execute_reply": "2025-09-02T20:56:53.484124Z",
     "shell.execute_reply.started": "2025-09-02T20:56:53.045447Z"
    }
   },
   "outputs": [],
   "source": [
    "import numpy as np\n",
    "%matplotlib widget\n",
    "import matplotlib.pyplot as plt\n",
    "from matplotlib.animation import FuncAnimation\n",
    "from ipywidgets import interact, FloatSlider, Layout"
   ]
  },
  {
   "cell_type": "code",
   "execution_count": 2,
   "id": "86875ce6",
   "metadata": {
    "execution": {
     "iopub.execute_input": "2025-09-02T20:56:53.485385Z",
     "iopub.status.busy": "2025-09-02T20:56:53.485186Z",
     "iopub.status.idle": "2025-09-02T20:56:53.490764Z",
     "shell.execute_reply": "2025-09-02T20:56:53.490154Z",
     "shell.execute_reply.started": "2025-09-02T20:56:53.485368Z"
    }
   },
   "outputs": [],
   "source": [
    "# High-level parameters\n",
    "SIZE = 256     # number of points in each line\n",
    "DEC = 45.      # degrees, declination of star\n",
    "DIST = 10      # parsecs, distance to star\n",
    "VPROP_RA = 0   # mas / yr, proper motion in ra direction\n",
    "VPROP_DEC = 0  # mas / yr, proper motion in dec direction\n",
    "NSTEPS = 300   # number of cycles in simulation before repeat\n",
    "STEP = NSTEPS / 60            # fraction of a year per step\n",
    "TAIL = 100                    # number of data points to tail\n",
    "VIEW = 10                     # mas to view\n",
    "\n",
    "# Constants\n",
    "AU = 1.5e13               # cm, astronomical unit\n",
    "PC = 3e18                 # cm, parsec\n",
    "mas = 1 / (60 * 60 * 1e3) # degrees, milliarcsecond\n",
    "\n",
    "# Variables derived from parameters above\n",
    "pos = (np.zeros(TAIL), np.zeros(TAIL))\n",
    "\n",
    "def update_star(t, dec0, dist, vra, vdec):\n",
    "    \"\"\"Launch photon wavelets along each line, propagating radially outward \n",
    "    at one index per simulation cycle.\"\"\"\n",
    "    pos[0][:-1] = pos[0][1:] #  propagate\n",
    "    pos[1][:-1] = pos[1][1:] #  propagate\n",
    "    dra_max = np.arctan2(AU, dist * PC)\n",
    "    ddec_max = np.arctan2(AU * np.sin(dec0), dist * PC)\n",
    "    pos[0][-1] =  vra * t +  dra_max * np.cos(2 * np.pi * STEP * t)\n",
    "    pos[1][-1] = vdec * t + ddec_max * np.sin(2 * np.pi * STEP * t)"
   ]
  },
  {
   "cell_type": "code",
   "execution_count": 3,
   "id": "1e2ece55",
   "metadata": {
    "execution": {
     "iopub.execute_input": "2025-09-02T20:56:53.491591Z",
     "iopub.status.busy": "2025-09-02T20:56:53.491361Z",
     "iopub.status.idle": "2025-09-02T20:56:53.610864Z",
     "shell.execute_reply": "2025-09-02T20:56:53.609992Z",
     "shell.execute_reply.started": "2025-09-02T20:56:53.491566Z"
    }
   },
   "outputs": [
    {
     "data": {
      "application/vnd.jupyter.widget-view+json": {
       "model_id": "7c5abaa431bd4811b2de42d37c083bba",
       "version_major": 2,
       "version_minor": 0
      },
      "text/plain": [
       "interactive(children=(FloatSlider(value=45.0, description='Star Declination [degrees]', layout=Layout(grid_are…"
      ]
     },
     "metadata": {},
     "output_type": "display_data"
    },
    {
     "data": {
      "application/vnd.jupyter.widget-view+json": {
       "model_id": "a8b85788135141a59c34357be0c36e3c",
       "version_major": 2,
       "version_minor": 0
      },
      "image/png": "[encoded data removed]",
      "text/html": [
       "\n",
       "            <div style=\"display: inline-block;\">\n",
       "                <div class=\"jupyter-widgets widget-label\" style=\"text-align: center;\">\n",
       "                    Figure\n",
       "                </div>\n",
       "                <img src='data:image/png;base64,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' width=600.0/>\n",
       "            </div>\n",
       "        "
      ],
      "text/plain": [
       "Canvas(toolbar=Toolbar(toolitems=[('Home', 'Reset original view', 'home', 'home'), ('Back', 'Back to previous …"
      ]
     },
     "metadata": {},
     "output_type": "display_data"
    }
   ],
   "source": [
    "# Generate the animation figure\n",
    "\n",
    "fig, (ax1) = plt.subplots(figsize=(6,6))\n",
    "srcpos_J2000, = ax1.plot([0], [0], 'kx')  # plot catalog source position\n",
    "srcpos_cur, = ax1.plot(pos[0][-1:], pos[1][-1:], 'm*')\n",
    "srctrack, = ax1.plot(pos[0], pos[1], 'k') # holds handle for incoming radiation\n",
    "\n",
    "# Sliders controlling animation\n",
    "dec_widget = FloatSlider(DEC, min=0, max=90, step=0.01,\n",
    "                           description='Star Declination [degrees]',\n",
    "                           style={'description_width':'initial'},\n",
    "                           layout=Layout(width='auto', grid_area='footer'))\n",
    "dist_widget = FloatSlider(DIST, min=0, max=20.0, step=0.5,\n",
    "                           description='Star Distance [pc]',\n",
    "                           style={'description_width':'initial'},\n",
    "                           layout=Layout(width='auto', grid_area='footer'))\n",
    "vra_widget  = FloatSlider(VPROP_RA, min=-10.0, max=10.0, step=0.1,\n",
    "                           description='Star RA velocity [mas/yr]',\n",
    "                           style={'description_width':'initial'},\n",
    "                           layout=Layout(width='auto', grid_area='footer'))\n",
    "vdec_widget = FloatSlider(VPROP_DEC, min=-10.0, max=10.0, step=0.1,\n",
    "                           description='Star DEC velocity [mas/yr]',\n",
    "                           style={'description_width':'initial'},\n",
    "                           layout=Layout(width='auto', grid_area='footer'))\n",
    "\n",
    "def animate(t):\n",
    "    '''Update plots for each line according to the time step. Reads dec, dist,\n",
    "    vra, and vdec from widgets. Called repeatedly by FuncAnimation.'''\n",
    "    dec0 = dec_widget.value\n",
    "    dist = dist_widget.value\n",
    "    vra = vra_widget.value * mas\n",
    "    vdec = vdec_widget.value * mas\n",
    "    update_star(t, dec0, dist, vra, vdec)\n",
    "    srctrack.set_xdata(pos[0] / mas)\n",
    "    srctrack.set_ydata(pos[1] / mas)\n",
    "    srcpos_cur.set_xdata(pos[0][-1:] / mas)\n",
    "    srcpos_cur.set_ydata(pos[1][-1:] / mas)\n",
    "    \n",
    "    \n",
    "def init():\n",
    "    '''Set initial plot parameters. Called once by FuncAnimation at beginning.'''\n",
    "    ax1.set_xlim(-VIEW, VIEW) # ra\n",
    "    ax1.set_ylim(-VIEW, VIEW) # dec\n",
    "    ax1.set_xlabel('$\\Delta$RA [mas]')\n",
    "    ax1.set_ylabel('$\\Delta$DEC [mas]')\n",
    "    ax1.set_title('Parallax and Proper Motion')\n",
    "    ax1.grid(True)\n",
    "    \n",
    "steps = np.linspace(0, 1, NSTEPS) # simulation interval\n",
    "ani = FuncAnimation(fig, animate, steps, init_func=init, interval=50, blit=True)\n",
    "\n",
    "def build_animation(dec, dist, vra, vdec):\n",
    "    '''Function which causes FuncAnimation to redraw itself when input widgets change.\n",
    "    Does not actually hand off the value, but needs to accept widget arguments to\n",
    "    be triggered by updating the slider.'''\n",
    "    ani.new_frame_seq()\n",
    "\n",
    "# force animation to redraw when freq_widget changes, even though\n",
    "# the parameter is not actually passed through (used as global, instead)\n",
    "interact(build_animation, dec=dec_widget, dist=dist_widget, vra=vra_widget, vdec=vdec_widget)\n",
    "plt.show()"
   ]
  }
 ],
 "metadata": {
  "kernelspec": {
   "display_name": "astrods",
   "language": "python",
   "name": "astrods"
  },
  "language_info": {
   "codemirror_mode": {
    "name": "ipython",
    "version": 3
   },
   "file_extension": ".py",
   "mimetype": "text/x-python",
   "name": "python",
   "nbconvert_exporter": "python",
   "pygments_lexer": "ipython3",
   "version": "3.11.13"
  }
 },
 "nbformat": 4,
 "nbformat_minor": 5
}
