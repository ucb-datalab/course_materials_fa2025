{
 "cells": [
  {
   "cell_type": "markdown",
   "id": "9829c9df-1e90-42ae-80ed-f209dda9d731",
   "metadata": {},
   "source": [
    "# Lecture 17: Cannon + work time \n",
    "\n",
    "### April 1, 2025"
   ]
  },
  {
   "cell_type": "markdown",
   "id": "f0b93e8c-3b28-48ff-bd21-92c4186900ba",
   "metadata": {},
   "source": [
    "# Lab 2 Timeline\n",
    "\n",
    "  - PDF of the Lab is on [GitHub](https://github.com/ucb-datalab/course_materials_sp2025/blob/main/labs/AY128_256_Lab2_apogee_spectra_spring2025.pdf).\n",
    "\n",
    "  - **Assigned**: Thursday, March 6, 2025\n",
    "\n",
    "  - **Checkpoints**: Thursday April 3, 2025; Tuesday April 8, 2025\n",
    "\n",
    "  - Final Write Up (in LaTex) Due: Thursday, April 10, 2025 "
   ]
  },
  {
   "cell_type": "markdown",
   "id": "9963d083-eb60-4e5d-bcd9-afa0fd8c3229",
   "metadata": {},
   "source": [
    "# Agenda\n",
    "\n",
    "* Office Hours\n",
    "   - Dan: Tues 3:30-4:30pm (355)\n",
    "   - Saahit: Mon 1-3pm (355) and Thu 12:30-2pm (102B Physics)\n",
    "   - by appt\n",
    "   - Communications on Ed Discussion\n",
    "\n",
    "- Introduction (this notebook, *00_Introduction*)\n",
    "- The Cannon (The Cannon, *01_Cannon*)\n",
    "- Fitting a model example (*fitting_a_model*)\n",
    "- work time"
   ]
  },
  {
   "cell_type": "markdown",
   "id": "8ae9ec40-6af1-4a2d-82cf-b8736e7d9662",
   "metadata": {},
   "source": [
    "## Getting these notebooks \n",
    "```bash\n",
    "git clone git clone https://github.com/ucb-datalab/course_materials_sp2025.git\n",
    "cd course_materials_sp2025.git\n",
    "jupyter notebook\n",
    "```"
   ]
  },
  {
   "cell_type": "markdown",
   "id": "ceb24693-5554-4b51-a6f1-54cf73a2b279",
   "metadata": {},
   "source": [
    "# Hints on Continuum Normalization\n",
    "\n",
    "* Apply bitmask to spectra, flux -> set uncertainites to large values\n",
    "* Interpolate (using np.interpolate, spectra onto a uniform grid) spectra and errors onto a uniform wavelength grid\n",
    "* Using the provided continnum pixels, fit a Chebyshev polynomial (np.polynomial.Chebyshev.fit)\n",
    "* Using the results of your polynomial fit, evaluate the polynomial at each point in your wavelength grid\n",
    "* Divide your unnormalized spectrum (and errors) by your polynomial fit at each wavelength -> normalized spectrum\n"
   ]
  },
  {
   "cell_type": "code",
   "execution_count": null,
   "id": "ebb2f3d9-f794-4c4d-b40f-5eee10896703",
   "metadata": {},
   "outputs": [],
   "source": []
  }
 ],
 "metadata": {
  "kernelspec": {
   "display_name": "Python 3 (ipykernel)",
   "language": "python",
   "name": "python3"
  },
  "language_info": {
   "codemirror_mode": {
    "name": "ipython",
    "version": 3
   },
   "file_extension": ".py",
   "mimetype": "text/x-python",
   "name": "python",
   "nbconvert_exporter": "python",
   "pygments_lexer": "ipython3",
   "version": "3.11.7"
  }
 },
 "nbformat": 4,
 "nbformat_minor": 5
}
