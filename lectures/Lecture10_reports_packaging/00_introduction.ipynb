{
 "cells": [
  {
   "cell_type": "markdown",
   "id": "9829c9df-1e90-42ae-80ed-f209dda9d731",
   "metadata": {
    "jp-MarkdownHeadingCollapsed": true
   },
   "source": [
    "# Lecture 10: Reports and Packaging\n",
    "\n",
    "### Oct 6, 2025"
   ]
  },
  {
   "cell_type": "markdown",
   "id": "9963d083-eb60-4e5d-bcd9-afa0fd8c3229",
   "metadata": {},
   "source": [
    "# Agenda\n",
    "\n",
    "- Introduction (this notebook, *00_Introduction*)\n",
    "- Examples of other reports: ideas for plots, tables, structure, etc.\n",
    "- Walk through of work-flow for packaging, testing, revision controlling, and distributing code"
   ]
  }
 ],
 "metadata": {
  "kernelspec": {
   "display_name": "Python 3 (ipykernel)",
   "language": "python",
   "name": "python3"
  },
  "language_info": {
   "codemirror_mode": {
    "name": "ipython",
    "version": 3
   },
   "file_extension": ".py",
   "mimetype": "text/x-python",
   "name": "python",
   "nbconvert_exporter": "python",
   "pygments_lexer": "ipython3",
   "version": "3.11.13"
  }
 },
 "nbformat": 4,
 "nbformat_minor": 5
}
