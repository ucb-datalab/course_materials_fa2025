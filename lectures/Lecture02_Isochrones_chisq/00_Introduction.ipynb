{
 "cells": [
  {
   "cell_type": "code",
   "execution_count": 1,
   "metadata": {
    "execution": {
     "iopub.execute_input": "2025-09-08T15:51:07.138049Z",
     "iopub.status.busy": "2025-09-08T15:51:07.137321Z",
     "iopub.status.idle": "2025-09-08T15:51:07.167613Z",
     "shell.execute_reply": "2025-09-08T15:51:07.166715Z",
     "shell.execute_reply.started": "2025-09-08T15:51:07.137984Z"
    }
   },
   "outputs": [
    {
     "data": {
      "text/html": [
       "\n",
       "<script src=\"https://stackpath.bootstrapcdn.com/bootstrap/4.3.1/js/bootstrap.min.js\" integrity=\"sha384-JjSmVgyd0p3pXB1rRibZUAYoIIy6OrQ6VrjIEaFf/nJGzIxFDsf4x0xIM+B07jRM\" crossorigin=\"anonymous\"></script>\n",
       "\n",
       "<style>\n",
       "\n",
       "@import url(https://fonts.googleapis.com/css?family=Open+Sans);body{\n",
       "   font-family: 'Open Sans';\n",
       "   font-size: 125%;\n",
       "}\n",
       "\n",
       ".talk_title\n",
       "{\n",
       "  color: #498AF3;\n",
       "  font-size: 275%;\n",
       "  font-weight:bold;\n",
       "  line-height: 1.3; \n",
       "  margin: 10px 50px 10px;\n",
       "  }\n",
       "\n",
       ".subtitle\n",
       "{\n",
       "  color: #386BBC;\n",
       "  font-size: 180%;\n",
       "  font-weight:bold;\n",
       "  line-height: 1.2; \n",
       "  margin: 20px 50px 20px;\n",
       "  }\n",
       "\n",
       ".rendered_html h1\n",
       "{\n",
       "  color: #498AF3;\n",
       "  line-height: 1.2; \n",
       "  margin: 0.15em 0em 0.5em;\n",
       "  page-break-before: always;\n",
       "  text-align: center;\n",
       "  }\n",
       "\n",
       "\n",
       ".center\n",
       "{\n",
       "  text-align: center;\n",
       "  }\n",
       "\n",
       ".nb_link\n",
       "{\n",
       "    padding-bottom: 0.5em;\n",
       "}\n",
       "\n",
       "</style>"
      ],
      "text/plain": [
       "<IPython.core.display.HTML object>"
      ]
     },
     "metadata": {},
     "output_type": "display_data"
    }
   ],
   "source": [
    "%run ../talktools.py"
   ]
  },
  {
   "cell_type": "markdown",
   "metadata": {},
   "source": [
    "# Meeting/Lecture 2\n",
    "\n",
    "## Agenda\n",
    "\n",
    "* Introduction (this notebook, *00_Introduction*)\n",
    "* MIST Isochrones\n",
    "* Intro to $\\chi^2$ (*01_chisq_intro*) part 1\n",
    "* Central Limit Theroem (*02_central_limit*)\n",
    "* Useful Astro Resources\n",
    "\n",
    "## MIST Isochrones\n",
    "\n",
    "* MESA = Modules for Experiments in Stellar Astrophysics\n",
    "* MIST = MESA Isochrones and Stellar Tracks\n",
    "  - MIST website: https://docs.mesastar.org/en/latest/\n",
    "* Isochrone = stars of the same age, but different masses\n",
    "  * Z = \"Metallicity\"\n",
    "  * X = hydrogen mass fraction, Y = helium mass fraction, Z = metal mass fraction\n",
    "  * Z = 1 - X - Y\n",
    "  * $Z_{\\odot} = 0.014$ (the Sun is ~1% \"metals\" by mass; there is some controversy over this number)\n",
    "  * notation: $[Fe/H]$ is the log$_{10}$ ratio of iron to hydrogen, relative to the Solar value.  E.g., $[Fe/H] = -1$ means there is 0.1 times as much iron in a star as in the Sun\n",
    "  * similar notation for other elements: $[X/H]$\n",
    "\n",
    "<img src=\"data/example_cmd.png\" width=\"40%\"></img>\n",
    "<img src=\"data/stellar_iso.png\" width=\"40%\"></img>\n",
    "\n",
    "# Useful Astronomy Resources\n",
    "\n",
    "## Local Astro Talks\n",
    "\n",
    "* Thursdays: Astro lunch talks 12:30-1:30pm\n",
    "* Astro colloquium Thursdays 3:30-4:30pm\n",
    "\n",
    "## NASA Astrophysical data system (ADS):  https://ui.adsabs.harvard.edu\n",
    " - useful for looking up papers\n",
    " - one of the most frequently visited webpages for astronomers\n",
    " \n",
    "## ArXiv: https://arxiv.org\n",
    " - paper pre-print sever\n",
    " - new papers posted almost daily\n",
    " - another of the most frequently visited webpages for astronomers\n",
    " - fun fact: originally created by Berkeley researcher Joanne Cohn\n",
    " \n",
    "## NASA/IPAC Extragalactic Database (NED): https://ned.ipac.caltech.edu\n",
    "\n",
    "## Simbad: https://simbad.u-strasbg.fr/simbad/sim-fbasic\n",
    "\n",
    "- both NED and Simbad are useful for finding basic information about astronomical objects"
   ]
  }
 ],
 "metadata": {
  "kernelspec": {
   "display_name": "Python 3 (ipykernel)",
   "language": "python",
   "name": "python3"
  },
  "language_info": {
   "codemirror_mode": {
    "name": "ipython",
    "version": 3
   },
   "file_extension": ".py",
   "mimetype": "text/x-python",
   "name": "python",
   "nbconvert_exporter": "python",
   "pygments_lexer": "ipython3",
   "version": "3.11.13"
  }
 },
 "nbformat": 4,
 "nbformat_minor": 4
}
