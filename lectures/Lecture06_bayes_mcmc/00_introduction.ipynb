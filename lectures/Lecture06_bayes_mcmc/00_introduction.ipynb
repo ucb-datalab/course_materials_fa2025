{
 "cells": [
  {
   "cell_type": "markdown",
   "id": "9829c9df-1e90-42ae-80ed-f209dda9d731",
   "metadata": {},
   "source": [
    "# Lecture 6: Bayesian Statistics an MCMC"
   ]
  },
  {
   "cell_type": "markdown",
   "id": "9963d083-eb60-4e5d-bcd9-afa0fd8c3229",
   "metadata": {},
   "source": [
    "# Agenda\n",
    "\n",
    "- Introduction (this notebook, *00_Introduction*)\n",
    "- Bayesian Statistics (*01_Bayes*)\n",
    "- Markov-Chain Monte Carlo (*02_MCMC*)\n",
    "- the Metropolis-Hastings Algorithm (*03_MCMC_MH_walkthrough*)"
   ]
  },
  {
   "cell_type": "code",
   "execution_count": null,
   "id": "619830c1-bd18-4966-95db-585f72a50027",
   "metadata": {},
   "outputs": [],
   "source": []
  }
 ],
 "metadata": {
  "kernelspec": {
   "display_name": "Python 3 (ipykernel)",
   "language": "python",
   "name": "python3"
  },
  "language_info": {
   "codemirror_mode": {
    "name": "ipython",
    "version": 3
   },
   "file_extension": ".py",
   "mimetype": "text/x-python",
   "name": "python",
   "nbconvert_exporter": "python",
   "pygments_lexer": "ipython3",
   "version": "3.11.13"
  }
 },
 "nbformat": 4,
 "nbformat_minor": 5
}
