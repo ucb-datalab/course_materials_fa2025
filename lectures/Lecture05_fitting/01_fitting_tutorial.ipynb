{
 "cells": [
  {
   "cell_type": "markdown",
   "id": "62e1b0ec",
   "metadata": {},
   "source": [
    "# Fitting Tutorial\n",
    "\n",
    "Below is a basic exercise in fitting a quadratic polynomial to some noisy data, done using many different fitting packages to demonstrate their basic usage."
   ]
  },
  {
   "cell_type": "markdown",
   "id": "d3fa0b50-2e7d-42f2-87f8-30b739b785b8",
   "metadata": {},
   "source": [
    "$$\n",
    "\\chi^2 = \\sum_i^n \\frac{(x_{i, \\rm true} - x_{i, \\rm model})^2}{\\sigma_{x_i}^2}\n",
    "$$\n",
    "\n",
    "Reduced $\\chi^2$:\n",
    "$$\n",
    "\\chi^2_r = \\chi^2/(n - {\\rm len} \\theta)\n",
    "$$\n"
   ]
  },
  {
   "cell_type": "code",
   "execution_count": null,
   "id": "7bacc950",
   "metadata": {
    "ExecuteTime": {
     "end_time": "2024-03-21T23:36:59.223033Z",
     "start_time": "2024-03-21T23:36:58.876654Z"
    }
   },
   "outputs": [],
   "source": [
    "import numpy as np\n",
    "import matplotlib.pyplot as plt\n",
    "%matplotlib inline\n",
    "np.random.seed(0)"
   ]
  },
  {
   "cell_type": "markdown",
   "id": "9652830e",
   "metadata": {},
   "source": [
    "## The True Model (and Data Generation)"
   ]
  },
  {
   "cell_type": "code",
   "execution_count": null,
   "id": "ff484d13",
   "metadata": {
    "ExecuteTime": {
     "end_time": "2024-03-21T23:36:59.227665Z",
     "start_time": "2024-03-21T23:36:59.224653Z"
    }
   },
   "outputs": [],
   "source": [
    "def model(x, a, b, c):\n",
    "    '''The model we are fitting.'''\n",
    "    return a*x**2 + b*x + c\n",
    "\n",
    "x = np.linspace(-5, 5, 256)\n",
    "SIG_N = 1\n",
    "prms_true = (1.1, 2.2, 3.3)\n",
    "y_meas = model(x, *prms_true) + SIG_N * np.random.normal(size=x.shape)"
   ]
  },
  {
   "cell_type": "code",
   "execution_count": null,
   "id": "44b94b51",
   "metadata": {
    "ExecuteTime": {
     "end_time": "2024-03-21T23:36:59.242491Z",
     "start_time": "2024-03-21T23:36:59.228647Z"
    }
   },
   "outputs": [],
   "source": [
    "def report(prms):\n",
    "    '''Generate a pretty report and plot for a set of parameters.'''\n",
    "    if type(prms) == dict:\n",
    "        prms = (prms['a'], prms['b'], prms['c'])\n",
    "    if type(prms[0]) != float:\n",
    "        prms = tuple(float(p) for p in prms)\n",
    "    y = model(x, *prms)\n",
    "    chisq = np.sum(np.abs(y_meas - y)**2 / SIG_N**2)\n",
    "    chisq_r = chisq / (y_meas.size - len(prms))\n",
    "    print(f'A:{prms[0]:7.3}, B:{prms[1]:7.3}, C:{prms[2]:7.3}')\n",
    "    print(f'Chi-sq: {chisq:7.3}, Reduced Chi-sq: {chisq_r:7.3}')\n",
    "\n",
    "    plt.figure()\n",
    "    plt.plot(x, y_meas, '.', label='measured')\n",
    "    plt.plot(x, y, label='model')\n",
    "    plt.plot(x, y_meas - y, label='residual')\n",
    "    plt.grid()\n",
    "    _ = plt.legend()"
   ]
  },
  {
   "cell_type": "code",
   "execution_count": null,
   "id": "fb433f75",
   "metadata": {
    "ExecuteTime": {
     "end_time": "2024-03-21T23:36:59.386346Z",
     "start_time": "2024-03-21T23:36:59.258212Z"
    }
   },
   "outputs": [],
   "source": [
    "report(prms_true)"
   ]
  },
  {
   "cell_type": "markdown",
   "id": "9fc5db90-6cef-4732-b391-19642f21add7",
   "metadata": {},
   "source": [
    "# Fitting"
   ]
  },
  {
   "cell_type": "markdown",
   "id": "b6ea4119",
   "metadata": {},
   "source": [
    "## numpy.linalg.lstsq"
   ]
  },
  {
   "cell_type": "code",
   "execution_count": null,
   "id": "180d47e7",
   "metadata": {
    "ExecuteTime": {
     "end_time": "2024-03-21T23:36:59.524745Z",
     "start_time": "2024-03-21T23:36:59.388804Z"
    }
   },
   "outputs": [],
   "source": [
    "# np.linalg.lstsq\n",
    "# generic matrix-based linear chi-sq optimizer\n",
    "A = np.array([x**2, x, np.ones_like(x)]).T  # design matrix\n",
    "prms_opt, res2, rank, s = np.linalg.lstsq(A, y_meas, rcond=None)\n",
    "report(prms_opt)"
   ]
  },
  {
   "cell_type": "markdown",
   "id": "ccf43bbe",
   "metadata": {},
   "source": [
    "## numpy.polyfit"
   ]
  },
  {
   "cell_type": "code",
   "execution_count": null,
   "id": "e3d6fe49",
   "metadata": {
    "ExecuteTime": {
     "end_time": "2024-03-21T23:36:59.647460Z",
     "start_time": "2024-03-21T23:36:59.529222Z"
    }
   },
   "outputs": [],
   "source": [
    "# np.polyfit\n",
    "# special case of matrix-based linear chi-sq optimizer for polynomials\n",
    "prms_opt = np.polyfit(x, y_meas, deg=2)\n",
    "report(prms_opt)"
   ]
  },
  {
   "cell_type": "markdown",
   "id": "1adb8727",
   "metadata": {},
   "source": [
    "##  scipy.optimize.fmin"
   ]
  },
  {
   "cell_type": "code",
   "execution_count": null,
   "id": "86d65b3e",
   "metadata": {
    "ExecuteTime": {
     "end_time": "2024-03-21T23:36:59.938990Z",
     "start_time": "2024-03-21T23:36:59.649082Z"
    }
   },
   "outputs": [],
   "source": [
    "from scipy.optimize import fmin\n",
    "\n",
    "def my_chisq(prms, x, y_meas, sig_n=1):\n",
    "    return np.sum(np.abs(model(x, *prms) - y_meas)**2 / sig_n**2)\n",
    "\n",
    "# scipy.optimize.fmin\n",
    "# very generic function optimization, guesses gradient from serial function evaluations\n",
    "init_guess = np.array([0.1, 0.1, 0.1])\n",
    "prms_opt, chisq_min, niter, ncalls, flags = fmin(my_chisq, init_guess, (x, y_meas, SIG_N), full_output=True)\n",
    "report(prms_opt)"
   ]
  },
  {
   "cell_type": "markdown",
   "id": "643847b5",
   "metadata": {},
   "source": [
    "## scipy.optimize.curve_fit"
   ]
  },
  {
   "cell_type": "code",
   "execution_count": null,
   "id": "19e00c81",
   "metadata": {
    "ExecuteTime": {
     "end_time": "2024-03-21T23:37:00.063945Z",
     "start_time": "2024-03-21T23:36:59.941021Z"
    }
   },
   "outputs": [],
   "source": [
    "# scipy.optimize.curve_fit\n",
    "from scipy.optimize import curve_fit\n",
    "\n",
    "# generic function optimization via least-squares, guesses gradient from serial function evaluations\n",
    "init_guess = np.array([0.1, 0.1, 0.1])\n",
    "prms_opt, cov, info, msg, flag = curve_fit(model, x, y_meas, init_guess, SIG_N * np.ones_like(y_meas), full_output=True)\n",
    "report(prms_opt)"
   ]
  }
 ],
 "metadata": {
  "kernelspec": {
   "display_name": "Python 3 (ipykernel)",
   "language": "python",
   "name": "python3"
  },
  "language_info": {
   "codemirror_mode": {
    "name": "ipython",
    "version": 3
   },
   "file_extension": ".py",
   "mimetype": "text/x-python",
   "name": "python",
   "nbconvert_exporter": "python",
   "pygments_lexer": "ipython3",
   "version": "3.11.7"
  }
 },
 "nbformat": 4,
 "nbformat_minor": 5
}
