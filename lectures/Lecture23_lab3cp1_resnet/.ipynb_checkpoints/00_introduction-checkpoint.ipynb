{
 "cells": [
  {
   "cell_type": "markdown",
   "id": "9829c9df-1e90-42ae-80ed-f209dda9d731",
   "metadata": {},
   "source": [
    "# Lecture 23: Lab 3 and resnets\n",
    "\n",
    "### April 22, 2025"
   ]
  },
  {
   "cell_type": "markdown",
   "id": "f0b93e8c-3b28-48ff-bd21-92c4186900ba",
   "metadata": {},
   "source": [
    "# Lab 3 Timeline\n",
    "\n",
    "  - PDF of the Lab is on [GitHub](https://github.com/ucb-datalab/course_materials_sp2025/blob/main/labs/AY128_256_Lab3_image_classification_spring2025.pdf).\n",
    "\n",
    "  - **Assigned**: Tuesday, April 15, 2025\n",
    "  - **Checkpoints**: Thursday May 1st, 2025 by 1:59pm\n",
    "  - Final Write Up (in LaTex) Due: Friday, May 9, 2025 by 11:59pm"
   ]
  },
  {
   "cell_type": "markdown",
   "id": "9963d083-eb60-4e5d-bcd9-afa0fd8c3229",
   "metadata": {},
   "source": [
    "# Agenda\n",
    "\n",
    "* Office Hours\n",
    "   - Dan: Tues 3:30-4:30pm (355)\n",
    "   - Saahit: Mon 1-3pm (355) and Thu 12:30-2pm (102B Physics)\n",
    "   - by appt\n",
    "   - Communications on Ed Discussion\n",
    "\n",
    "- Introduction (this notebook, *00_Introduction*)\n",
    "- Lab 3 Checkpoint 1 presentations\n",
    "- Resnets (*01_resnets*)\n",
    "- Saahit walkthrough of HPC (\"Savio\") usage (Github repo: \"labs/Lab3_Savio\")\n",
    "- work time"
   ]
  },
  {
   "cell_type": "markdown",
   "id": "8a0fd5bc-5d50-42a0-8a9e-7ceabafe98e6",
   "metadata": {},
   "source": [
    "### Lab 3 Updates\n",
    "* Datahub -> 8 GB\n",
    "* Savio access approved for everyone\n",
    "* Reminder that you need to use tensors in pyTorch, not numpy arrays\n",
    "* Tensors are GPU accelerated and there derivatives are automatically tracked"
   ]
  },
  {
   "cell_type": "code",
   "execution_count": 2,
   "id": "6cda4772-567a-4233-9b4f-ef2d8eaf8727",
   "metadata": {},
   "outputs": [
    {
     "data": {
      "text/plain": [
       "array([-1,  2,  3])"
      ]
     },
     "execution_count": 2,
     "metadata": {},
     "output_type": "execute_result"
    }
   ],
   "source": [
    "# example from pyTorch documentation\n",
    "import numpy\n",
    "import torch\n",
    "a = numpy.array([1, 2, 3])\n",
    "t = torch.from_numpy(a)\n",
    "t\n",
    "t[0] = -1\n",
    "a"
   ]
  },
  {
   "cell_type": "markdown",
   "id": "8ae9ec40-6af1-4a2d-82cf-b8736e7d9662",
   "metadata": {},
   "source": [
    "## Getting these notebooks \n",
    "```bash\n",
    "git clone git clone https://github.com/ucb-datalab/course_materials_sp2025.git\n",
    "cd course_materials_sp2025.git\n",
    "jupyter notebook\n",
    "```"
   ]
  },
  {
   "cell_type": "code",
   "execution_count": null,
   "id": "ebb2f3d9-f794-4c4d-b40f-5eee10896703",
   "metadata": {},
   "outputs": [],
   "source": []
  }
 ],
 "metadata": {
  "kernelspec": {
   "display_name": "Python 3 (ipykernel)",
   "language": "python",
   "name": "python3"
  },
  "language_info": {
   "codemirror_mode": {
    "name": "ipython",
    "version": 3
   },
   "file_extension": ".py",
   "mimetype": "text/x-python",
   "name": "python",
   "nbconvert_exporter": "python",
   "pygments_lexer": "ipython3",
   "version": "3.11.7"
  }
 },
 "nbformat": 4,
 "nbformat_minor": 5
}
