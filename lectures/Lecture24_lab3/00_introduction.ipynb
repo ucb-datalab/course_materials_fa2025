{
 "cells": [
  {
   "cell_type": "markdown",
   "id": "9829c9df-1e90-42ae-80ed-f209dda9d731",
   "metadata": {},
   "source": [
    "# Lecture 24: Lab 3 and grades\n",
    "\n",
    "### April 29, 2025"
   ]
  },
  {
   "cell_type": "markdown",
   "id": "f0b93e8c-3b28-48ff-bd21-92c4186900ba",
   "metadata": {},
   "source": [
    "# Lab 3 Timeline\n",
    "\n",
    "  - PDF of the Lab is on [GitHub](https://github.com/ucb-datalab/course_materials_sp2025/blob/main/labs/AY128_256_Lab3_image_classification_spring2025.pdf).\n",
    "\n",
    "  - **Assigned**: Tuesday, April 15, 2025\n",
    "  - **Checkpoints**: Thursday May 1st, 2025 by 1:59pm\n",
    "  - Final Write Up (in LaTex) Due: Friday, May 9, 2025 by 11:59pm"
   ]
  },
  {
   "cell_type": "markdown",
   "id": "9963d083-eb60-4e5d-bcd9-afa0fd8c3229",
   "metadata": {},
   "source": [
    "# Agenda\n",
    "\n",
    "* Office Hours\n",
    "   - Dan: Tues 3:30-4:30pm (355)\n",
    "   - Saahit: Mon 1-3pm (355) and Thu 12:30-2pm (102B Physics)\n",
    "   - by appt\n",
    "   - Communications on Ed Discussion\n",
    "- Introduction (this notebook, *00_Introduction*)\n",
    "- Grading\n",
    "- Office Hours during R&R week\n",
    "- Course Evaluations\n",
    "- Addressing Savio issues\n",
    "\n",
    "- work/question time"
   ]
  },
  {
   "cell_type": "markdown",
   "id": "8a0fd5bc-5d50-42a0-8a9e-7ceabafe98e6",
   "metadata": {},
   "source": [
    "### Reminder of Grading Distribution\n",
    "\n",
    "- Lab reports (60% of total grade)\n",
    "    - Lab 0 = 10%, Lab 1-3 = 30% each\n",
    "- Check points (30% of total grade)\n",
    "    - In class presentation of checkpoint (50%)\n",
    "    - Submitted check points (50%)\n",
    "        - 2 lowest checkpoints dropped\n",
    "- Class participation (10%)\n",
    "\n",
    "- Slip days\n",
    "    - each unused slip day = 0.25% extra credit"
   ]
  },
  {
   "cell_type": "markdown",
   "id": "d57d4ca5-11dd-4d52-b25c-b9c29a453357",
   "metadata": {},
   "source": [
    "### Minimum Final Grade Distribuition\n",
    "\n",
    "- A range: $\\ge90$\n",
    "- B range: $80-90$\n",
    "- C range: $60-80$\n",
    "- D range: $40-60$"
   ]
  },
  {
   "cell_type": "markdown",
   "id": "6fee8e6a-7af5-4def-8b5d-d3777cfdc875",
   "metadata": {},
   "source": [
    "### Office Hours during R&R Week\n",
    "* Sahhit: Tuesday 5/6 2-3:30pm in Physics 102B\n",
    "* Dan: Tuesday 5/6 3:30-4:30pm in 355 Campbell\n",
    "* Saahit: Thursday 5/8 10am-12pm in Physics 102B"
   ]
  },
  {
   "cell_type": "markdown",
   "id": "8ae9ec40-6af1-4a2d-82cf-b8736e7d9662",
   "metadata": {},
   "source": [
    "## Getting these notebooks \n",
    "```bash\n",
    "git clone git clone https://github.com/ucb-datalab/course_materials_sp2025.git\n",
    "cd course_materials_sp2025.git\n",
    "jupyter notebook\n",
    "```"
   ]
  },
  {
   "cell_type": "code",
   "execution_count": null,
   "id": "ebb2f3d9-f794-4c4d-b40f-5eee10896703",
   "metadata": {},
   "outputs": [],
   "source": []
  }
 ],
 "metadata": {
  "kernelspec": {
   "display_name": "Python 3 (ipykernel)",
   "language": "python",
   "name": "python3"
  },
  "language_info": {
   "codemirror_mode": {
    "name": "ipython",
    "version": 3
   },
   "file_extension": ".py",
   "mimetype": "text/x-python",
   "name": "python",
   "nbconvert_exporter": "python",
   "pygments_lexer": "ipython3",
   "version": "3.11.7"
  }
 },
 "nbformat": 4,
 "nbformat_minor": 5
}
